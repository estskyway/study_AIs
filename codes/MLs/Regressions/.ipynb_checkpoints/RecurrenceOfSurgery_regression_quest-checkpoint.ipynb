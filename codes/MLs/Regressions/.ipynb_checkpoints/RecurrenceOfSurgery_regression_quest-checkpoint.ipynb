{
 "cells": [
  {
   "cell_type": "code",
   "execution_count": 1,
   "id": "d6056c9b-d8d6-4d76-ad61-ebcc35d2cab5",
   "metadata": {
    "tags": []
   },
   "outputs": [],
   "source": [
    "import pandas as pd\n",
    "import numpy as np"
   ]
  },
  {
   "cell_type": "code",
   "execution_count": 16,
   "id": "1b7ff7aa-fbe0-47ce-828b-0bafb640b547",
   "metadata": {
    "tags": []
   },
   "outputs": [
    {
     "data": {
      "text/html": [
       "<div>\n",
       "<style scoped>\n",
       "    .dataframe tbody tr th:only-of-type {\n",
       "        vertical-align: middle;\n",
       "    }\n",
       "\n",
       "    .dataframe tbody tr th {\n",
       "        vertical-align: top;\n",
       "    }\n",
       "\n",
       "    .dataframe thead th {\n",
       "        text-align: right;\n",
       "    }\n",
       "</style>\n",
       "<table border=\"1\" class=\"dataframe\">\n",
       "  <thead>\n",
       "    <tr style=\"text-align: right;\">\n",
       "      <th></th>\n",
       "      <th>Unnamed: 0</th>\n",
       "      <th>환자ID</th>\n",
       "      <th>Large Lymphocyte</th>\n",
       "      <th>Location of herniation</th>\n",
       "      <th>ODI</th>\n",
       "      <th>가족력</th>\n",
       "      <th>간질성폐질환</th>\n",
       "      <th>고혈압여부</th>\n",
       "      <th>과거수술횟수</th>\n",
       "      <th>당뇨여부</th>\n",
       "      <th>...</th>\n",
       "      <th>Modic change</th>\n",
       "      <th>PI</th>\n",
       "      <th>PT</th>\n",
       "      <th>Seg Angle(raw)</th>\n",
       "      <th>Vaccum disc</th>\n",
       "      <th>골밀도</th>\n",
       "      <th>디스크단면적</th>\n",
       "      <th>디스크위치</th>\n",
       "      <th>척추이동척도</th>\n",
       "      <th>척추전방위증</th>\n",
       "    </tr>\n",
       "  </thead>\n",
       "  <tbody>\n",
       "    <tr>\n",
       "      <th>0</th>\n",
       "      <td>0</td>\n",
       "      <td>1PT</td>\n",
       "      <td>22.8</td>\n",
       "      <td>3</td>\n",
       "      <td>51.0</td>\n",
       "      <td>0.0</td>\n",
       "      <td>0</td>\n",
       "      <td>0</td>\n",
       "      <td>0</td>\n",
       "      <td>0</td>\n",
       "      <td>...</td>\n",
       "      <td>3</td>\n",
       "      <td>51.6</td>\n",
       "      <td>36.6</td>\n",
       "      <td>14.4</td>\n",
       "      <td>0</td>\n",
       "      <td>-1.01</td>\n",
       "      <td>2048.5</td>\n",
       "      <td>4</td>\n",
       "      <td>Down</td>\n",
       "      <td>0</td>\n",
       "    </tr>\n",
       "    <tr>\n",
       "      <th>1</th>\n",
       "      <td>1</td>\n",
       "      <td>2PT</td>\n",
       "      <td>44.9</td>\n",
       "      <td>4</td>\n",
       "      <td>26.0</td>\n",
       "      <td>0.0</td>\n",
       "      <td>0</td>\n",
       "      <td>0</td>\n",
       "      <td>0</td>\n",
       "      <td>0</td>\n",
       "      <td>...</td>\n",
       "      <td>0</td>\n",
       "      <td>40.8</td>\n",
       "      <td>7.2</td>\n",
       "      <td>17.8</td>\n",
       "      <td>0</td>\n",
       "      <td>-1.14</td>\n",
       "      <td>1753.1</td>\n",
       "      <td>4</td>\n",
       "      <td>Up</td>\n",
       "      <td>0</td>\n",
       "    </tr>\n",
       "    <tr>\n",
       "      <th>2</th>\n",
       "      <td>2</td>\n",
       "      <td>3PT</td>\n",
       "      <td>53.0</td>\n",
       "      <td>3</td>\n",
       "      <td>NaN</td>\n",
       "      <td>0.0</td>\n",
       "      <td>0</td>\n",
       "      <td>0</td>\n",
       "      <td>1</td>\n",
       "      <td>0</td>\n",
       "      <td>...</td>\n",
       "      <td>0</td>\n",
       "      <td>67.5</td>\n",
       "      <td>27.3</td>\n",
       "      <td>10.2</td>\n",
       "      <td>0</td>\n",
       "      <td>-1.77</td>\n",
       "      <td>1749.0</td>\n",
       "      <td>4</td>\n",
       "      <td>Down</td>\n",
       "      <td>0</td>\n",
       "    </tr>\n",
       "  </tbody>\n",
       "</table>\n",
       "<p>3 rows × 52 columns</p>\n",
       "</div>"
      ],
      "text/plain": [
       "   Unnamed: 0 환자ID  Large Lymphocyte  Location of herniation   ODI  가족력  \\\n",
       "0           0  1PT              22.8                       3  51.0  0.0   \n",
       "1           1  2PT              44.9                       4  26.0  0.0   \n",
       "2           2  3PT              53.0                       3   NaN  0.0   \n",
       "\n",
       "   간질성폐질환  고혈압여부  과거수술횟수  당뇨여부  ...  Modic change    PI    PT  Seg Angle(raw)  \\\n",
       "0       0      0       0     0  ...             3  51.6  36.6            14.4   \n",
       "1       0      0       0     0  ...             0  40.8   7.2            17.8   \n",
       "2       0      0       1     0  ...             0  67.5  27.3            10.2   \n",
       "\n",
       "   Vaccum disc   골밀도  디스크단면적  디스크위치  척추이동척도  척추전방위증  \n",
       "0            0 -1.01  2048.5      4    Down       0  \n",
       "1            0 -1.14  1753.1      4      Up       0  \n",
       "2            0 -1.77  1749.0      4    Down       0  \n",
       "\n",
       "[3 rows x 52 columns]"
      ]
     },
     "execution_count": 16,
     "metadata": {},
     "output_type": "execute_result"
    }
   ],
   "source": [
    "df_ROS = pd.read_csv('../../../datasets/RecurrenceOfSurgery.csv')\n",
    "df_ROS[:3]"
   ]
  },
  {
   "cell_type": "code",
   "execution_count": 3,
   "id": "265c8808-4176-4adc-a725-511e7f31302d",
   "metadata": {
    "tags": []
   },
   "outputs": [
    {
     "name": "stdout",
     "output_type": "stream",
     "text": [
      "<class 'pandas.core.frame.DataFrame'>\n",
      "RangeIndex: 1894 entries, 0 to 1893\n",
      "Data columns (total 52 columns):\n",
      " #   Column                  Non-Null Count  Dtype  \n",
      "---  ------                  --------------  -----  \n",
      " 0   Unnamed: 0              1894 non-null   int64  \n",
      " 1   환자ID                    1894 non-null   object \n",
      " 2   Large Lymphocyte        1894 non-null   float64\n",
      " 3   Location of herniation  1894 non-null   int64  \n",
      " 4   ODI                     462 non-null    float64\n",
      " 5   가족력                     1843 non-null   float64\n",
      " 6   간질성폐질환                  1894 non-null   int64  \n",
      " 7   고혈압여부                   1894 non-null   int64  \n",
      " 8   과거수술횟수                  1894 non-null   int64  \n",
      " 9   당뇨여부                    1894 non-null   int64  \n",
      " 10  말초동맥질환여부                1894 non-null   int64  \n",
      " 11  빈혈여부                    1894 non-null   int64  \n",
      " 12  성별                      1894 non-null   int64  \n",
      " 13  스테로이드치료                 1894 non-null   int64  \n",
      " 14  신부전여부                   1894 non-null   int64  \n",
      " 15  신장                      1894 non-null   int64  \n",
      " 16  심혈관질환                   1894 non-null   int64  \n",
      " 17  암발병여부                   1894 non-null   int64  \n",
      " 18  연령                      1894 non-null   int64  \n",
      " 19  우울증여부                   1894 non-null   int64  \n",
      " 20  입원기간                    1894 non-null   int64  \n",
      " 21  입원일자                    1894 non-null   int64  \n",
      " 22  종양진행여부                  1894 non-null   int64  \n",
      " 23  직업                      1479 non-null   object \n",
      " 24  체중                      1894 non-null   float64\n",
      " 25  퇴원일자                    1894 non-null   int64  \n",
      " 26  헤모글로빈수치                 1893 non-null   float64\n",
      " 27  혈전합병증여부                 1894 non-null   int64  \n",
      " 28  환자통증정도                  1894 non-null   int64  \n",
      " 29  흡연여부                    1894 non-null   int64  \n",
      " 30  통증기간(월)                 1890 non-null   float64\n",
      " 31  수술기법                    1813 non-null   object \n",
      " 32  수술시간                    1840 non-null   float64\n",
      " 33  수술실패여부                  1894 non-null   int64  \n",
      " 34  수술일자                    1894 non-null   int64  \n",
      " 35  재발여부                    1894 non-null   int64  \n",
      " 36  혈액형                     1894 non-null   object \n",
      " 37  전방디스크높이(mm)             1894 non-null   float64\n",
      " 38  후방디스크높이(mm)             1894 non-null   float64\n",
      " 39  지방축적도                   1891 non-null   float64\n",
      " 40  Instability             1894 non-null   int64  \n",
      " 41  MF + ES                 1894 non-null   float64\n",
      " 42  Modic change            1894 non-null   int64  \n",
      " 43  PI                      1890 non-null   float64\n",
      " 44  PT                      1890 non-null   float64\n",
      " 45  Seg Angle(raw)          1893 non-null   float64\n",
      " 46  Vaccum disc             1894 non-null   int64  \n",
      " 47  골밀도                     998 non-null    float64\n",
      " 48  디스크단면적                  1893 non-null   float64\n",
      " 49  디스크위치                   1894 non-null   int64  \n",
      " 50  척추이동척도                  1894 non-null   object \n",
      " 51  척추전방위증                  1894 non-null   int64  \n",
      "dtypes: float64(16), int64(31), object(5)\n",
      "memory usage: 769.6+ KB\n"
     ]
    }
   ],
   "source": [
    "df_ROS.info()"
   ]
  },
  {
   "cell_type": "markdown",
   "id": "6d09e7dd-4be2-4f00-8c4a-4d04a1dc5f85",
   "metadata": {},
   "source": [
    "#### 목표변수 \n",
    "- 목표변수 : 연령\n",
    "- 설명변수 : 입원기간, 신장, Large Lymphocyte"
   ]
  },
  {
   "cell_type": "code",
   "execution_count": 17,
   "id": "657d0417-2b01-47b4-aa5b-bf7d60fdfdfd",
   "metadata": {
    "tags": []
   },
   "outputs": [
    {
     "data": {
      "text/html": [
       "<div>\n",
       "<style scoped>\n",
       "    .dataframe tbody tr th:only-of-type {\n",
       "        vertical-align: middle;\n",
       "    }\n",
       "\n",
       "    .dataframe tbody tr th {\n",
       "        vertical-align: top;\n",
       "    }\n",
       "\n",
       "    .dataframe thead th {\n",
       "        text-align: right;\n",
       "    }\n",
       "</style>\n",
       "<table border=\"1\" class=\"dataframe\">\n",
       "  <thead>\n",
       "    <tr style=\"text-align: right;\">\n",
       "      <th></th>\n",
       "      <th>연령</th>\n",
       "      <th>입원기간</th>\n",
       "      <th>신장</th>\n",
       "      <th>Large Lymphocyte</th>\n",
       "    </tr>\n",
       "  </thead>\n",
       "  <tbody>\n",
       "    <tr>\n",
       "      <th>0</th>\n",
       "      <td>66</td>\n",
       "      <td>2</td>\n",
       "      <td>163</td>\n",
       "      <td>22.8</td>\n",
       "    </tr>\n",
       "    <tr>\n",
       "      <th>1</th>\n",
       "      <td>47</td>\n",
       "      <td>1</td>\n",
       "      <td>171</td>\n",
       "      <td>44.9</td>\n",
       "    </tr>\n",
       "    <tr>\n",
       "      <th>2</th>\n",
       "      <td>39</td>\n",
       "      <td>1</td>\n",
       "      <td>178</td>\n",
       "      <td>53.0</td>\n",
       "    </tr>\n",
       "  </tbody>\n",
       "</table>\n",
       "</div>"
      ],
      "text/plain": [
       "   연령  입원기간   신장  Large Lymphocyte\n",
       "0  66     2  163              22.8\n",
       "1  47     1  171              44.9\n",
       "2  39     1  178              53.0"
      ]
     },
     "execution_count": 17,
     "metadata": {},
     "output_type": "execute_result"
    }
   ],
   "source": [
    "# 목표변수와 설명변수 축출\n",
    "df_ROS_extract = df_ROS[['연령', '입원기간', '신장', 'Large Lymphocyte']]\n",
    "df_ROS_extract[:3]"
   ]
  },
  {
   "cell_type": "code",
   "execution_count": 5,
   "id": "9c056931-2238-46ed-93fe-e03293663a2f",
   "metadata": {
    "tags": []
   },
   "outputs": [
    {
     "data": {
      "text/plain": [
       "연령                  0\n",
       "입원기간                0\n",
       "신장                  0\n",
       "Large Lymphocyte    0\n",
       "dtype: int64"
      ]
     },
     "execution_count": 5,
     "metadata": {},
     "output_type": "execute_result"
    }
   ],
   "source": [
    "df_ROS_extract.isnull().sum()"
   ]
  },
  {
   "cell_type": "code",
   "execution_count": 6,
   "id": "fee898a8-f131-4362-a050-f6974b98a663",
   "metadata": {
    "tags": []
   },
   "outputs": [
    {
     "data": {
      "text/plain": [
       "((1894,), (1894, 3))"
      ]
     },
     "execution_count": 6,
     "metadata": {},
     "output_type": "execute_result"
    }
   ],
   "source": [
    "# 목표변수(target)와 설명변수(label) 분할하기\n",
    "target = df_ROS_extract['연령']\n",
    "labels = df_ROS_extract[['입원기간', '신장', 'Large Lymphocyte']]\n",
    "target.shape, labels.shape"
   ]
  },
  {
   "cell_type": "code",
   "execution_count": 7,
   "id": "46db3cbf-146a-4635-8ad6-fa4f766a0795",
   "metadata": {
    "tags": []
   },
   "outputs": [],
   "source": [
    "# 모델 학습\n",
    "from sklearn.linear_model import LinearRegression"
   ]
  },
  {
   "cell_type": "code",
   "execution_count": 8,
   "id": "12e1025a-e235-43e6-8ab9-801e64905f16",
   "metadata": {
    "tags": []
   },
   "outputs": [
    {
     "data": {
      "text/html": [
       "<style>#sk-container-id-1 {color: black;background-color: white;}#sk-container-id-1 pre{padding: 0;}#sk-container-id-1 div.sk-toggleable {background-color: white;}#sk-container-id-1 label.sk-toggleable__label {cursor: pointer;display: block;width: 100%;margin-bottom: 0;padding: 0.3em;box-sizing: border-box;text-align: center;}#sk-container-id-1 label.sk-toggleable__label-arrow:before {content: \"▸\";float: left;margin-right: 0.25em;color: #696969;}#sk-container-id-1 label.sk-toggleable__label-arrow:hover:before {color: black;}#sk-container-id-1 div.sk-estimator:hover label.sk-toggleable__label-arrow:before {color: black;}#sk-container-id-1 div.sk-toggleable__content {max-height: 0;max-width: 0;overflow: hidden;text-align: left;background-color: #f0f8ff;}#sk-container-id-1 div.sk-toggleable__content pre {margin: 0.2em;color: black;border-radius: 0.25em;background-color: #f0f8ff;}#sk-container-id-1 input.sk-toggleable__control:checked~div.sk-toggleable__content {max-height: 200px;max-width: 100%;overflow: auto;}#sk-container-id-1 input.sk-toggleable__control:checked~label.sk-toggleable__label-arrow:before {content: \"▾\";}#sk-container-id-1 div.sk-estimator input.sk-toggleable__control:checked~label.sk-toggleable__label {background-color: #d4ebff;}#sk-container-id-1 div.sk-label input.sk-toggleable__control:checked~label.sk-toggleable__label {background-color: #d4ebff;}#sk-container-id-1 input.sk-hidden--visually {border: 0;clip: rect(1px 1px 1px 1px);clip: rect(1px, 1px, 1px, 1px);height: 1px;margin: -1px;overflow: hidden;padding: 0;position: absolute;width: 1px;}#sk-container-id-1 div.sk-estimator {font-family: monospace;background-color: #f0f8ff;border: 1px dotted black;border-radius: 0.25em;box-sizing: border-box;margin-bottom: 0.5em;}#sk-container-id-1 div.sk-estimator:hover {background-color: #d4ebff;}#sk-container-id-1 div.sk-parallel-item::after {content: \"\";width: 100%;border-bottom: 1px solid gray;flex-grow: 1;}#sk-container-id-1 div.sk-label:hover label.sk-toggleable__label {background-color: #d4ebff;}#sk-container-id-1 div.sk-serial::before {content: \"\";position: absolute;border-left: 1px solid gray;box-sizing: border-box;top: 0;bottom: 0;left: 50%;z-index: 0;}#sk-container-id-1 div.sk-serial {display: flex;flex-direction: column;align-items: center;background-color: white;padding-right: 0.2em;padding-left: 0.2em;position: relative;}#sk-container-id-1 div.sk-item {position: relative;z-index: 1;}#sk-container-id-1 div.sk-parallel {display: flex;align-items: stretch;justify-content: center;background-color: white;position: relative;}#sk-container-id-1 div.sk-item::before, #sk-container-id-1 div.sk-parallel-item::before {content: \"\";position: absolute;border-left: 1px solid gray;box-sizing: border-box;top: 0;bottom: 0;left: 50%;z-index: -1;}#sk-container-id-1 div.sk-parallel-item {display: flex;flex-direction: column;z-index: 1;position: relative;background-color: white;}#sk-container-id-1 div.sk-parallel-item:first-child::after {align-self: flex-end;width: 50%;}#sk-container-id-1 div.sk-parallel-item:last-child::after {align-self: flex-start;width: 50%;}#sk-container-id-1 div.sk-parallel-item:only-child::after {width: 0;}#sk-container-id-1 div.sk-dashed-wrapped {border: 1px dashed gray;margin: 0 0.4em 0.5em 0.4em;box-sizing: border-box;padding-bottom: 0.4em;background-color: white;}#sk-container-id-1 div.sk-label label {font-family: monospace;font-weight: bold;display: inline-block;line-height: 1.2em;}#sk-container-id-1 div.sk-label-container {text-align: center;}#sk-container-id-1 div.sk-container {/* jupyter's `normalize.less` sets `[hidden] { display: none; }` but bootstrap.min.css set `[hidden] { display: none !important; }` so we also need the `!important` here to be able to override the default hidden behavior on the sphinx rendered scikit-learn.org. See: https://github.com/scikit-learn/scikit-learn/issues/21755 */display: inline-block !important;position: relative;}#sk-container-id-1 div.sk-text-repr-fallback {display: none;}</style><div id=\"sk-container-id-1\" class=\"sk-top-container\"><div class=\"sk-text-repr-fallback\"><pre>LinearRegression()</pre><b>In a Jupyter environment, please rerun this cell to show the HTML representation or trust the notebook. <br />On GitHub, the HTML representation is unable to render, please try loading this page with nbviewer.org.</b></div><div class=\"sk-container\" hidden><div class=\"sk-item\"><div class=\"sk-estimator sk-toggleable\"><input class=\"sk-toggleable__control sk-hidden--visually\" id=\"sk-estimator-id-1\" type=\"checkbox\" checked><label for=\"sk-estimator-id-1\" class=\"sk-toggleable__label sk-toggleable__label-arrow\">LinearRegression</label><div class=\"sk-toggleable__content\"><pre>LinearRegression()</pre></div></div></div></div></div>"
      ],
      "text/plain": [
       "LinearRegression()"
      ]
     },
     "execution_count": 8,
     "metadata": {},
     "output_type": "execute_result"
    }
   ],
   "source": [
    "model = LinearRegression()\n",
    "model.fit(labels, target)"
   ]
  },
  {
   "cell_type": "code",
   "execution_count": 9,
   "id": "69ea2ea4-edd4-43c6-9fbf-4987ca32e927",
   "metadata": {
    "tags": []
   },
   "outputs": [
    {
     "data": {
      "text/plain": [
       "1894"
      ]
     },
     "execution_count": 9,
     "metadata": {},
     "output_type": "execute_result"
    }
   ],
   "source": [
    "# 평가\n",
    "target_predict = model.predict(labels) \n",
    "len(target_predict)"
   ]
  },
  {
   "cell_type": "code",
   "execution_count": 10,
   "id": "9f1af911-bbed-4068-ae72-86f4a568b21c",
   "metadata": {
    "tags": []
   },
   "outputs": [
    {
     "data": {
      "text/plain": [
       "0.042823545290537446"
      ]
     },
     "execution_count": 10,
     "metadata": {},
     "output_type": "execute_result"
    }
   ],
   "source": [
    "from sklearn.metrics import r2_score\n",
    "r2_score(target, target_predict)"
   ]
  },
  {
   "cell_type": "code",
   "execution_count": 12,
   "id": "7878fd65-543f-45ed-858b-04e61b79f129",
   "metadata": {},
   "outputs": [
    {
     "data": {
      "text/html": [
       "<div>\n",
       "<style scoped>\n",
       "    .dataframe tbody tr th:only-of-type {\n",
       "        vertical-align: middle;\n",
       "    }\n",
       "\n",
       "    .dataframe tbody tr th {\n",
       "        vertical-align: top;\n",
       "    }\n",
       "\n",
       "    .dataframe thead th {\n",
       "        text-align: right;\n",
       "    }\n",
       "</style>\n",
       "<table border=\"1\" class=\"dataframe\">\n",
       "  <thead>\n",
       "    <tr style=\"text-align: right;\">\n",
       "      <th></th>\n",
       "      <th>연령</th>\n",
       "      <th>입원기간</th>\n",
       "      <th>신장</th>\n",
       "      <th>Large Lymphocyte</th>\n",
       "    </tr>\n",
       "  </thead>\n",
       "  <tbody>\n",
       "    <tr>\n",
       "      <th>50</th>\n",
       "      <td>55</td>\n",
       "      <td>1</td>\n",
       "      <td>169</td>\n",
       "      <td>31.5</td>\n",
       "    </tr>\n",
       "    <tr>\n",
       "      <th>51</th>\n",
       "      <td>38</td>\n",
       "      <td>2</td>\n",
       "      <td>161</td>\n",
       "      <td>26.7</td>\n",
       "    </tr>\n",
       "    <tr>\n",
       "      <th>52</th>\n",
       "      <td>29</td>\n",
       "      <td>2</td>\n",
       "      <td>168</td>\n",
       "      <td>36.9</td>\n",
       "    </tr>\n",
       "    <tr>\n",
       "      <th>53</th>\n",
       "      <td>40</td>\n",
       "      <td>1</td>\n",
       "      <td>185</td>\n",
       "      <td>38.6</td>\n",
       "    </tr>\n",
       "    <tr>\n",
       "      <th>54</th>\n",
       "      <td>38</td>\n",
       "      <td>2</td>\n",
       "      <td>168</td>\n",
       "      <td>86.1</td>\n",
       "    </tr>\n",
       "  </tbody>\n",
       "</table>\n",
       "</div>"
      ],
      "text/plain": [
       "    연령  입원기간   신장  Large Lymphocyte\n",
       "50  55     1  169              31.5\n",
       "51  38     2  161              26.7\n",
       "52  29     2  168              36.9\n",
       "53  40     1  185              38.6\n",
       "54  38     2  168              86.1"
      ]
     },
     "execution_count": 12,
     "metadata": {},
     "output_type": "execute_result"
    }
   ],
   "source": [
    "df_ROS_extract[50:55]"
   ]
  },
  {
   "cell_type": "code",
   "execution_count": 13,
   "id": "6831d7f1-288c-4645-88a7-8b048387ea9a",
   "metadata": {
    "tags": []
   },
   "outputs": [],
   "source": [
    "# 51번째의 2, 161, 26.7 : 외부에서 입력한 설명변수 값들\n",
    "temp_label = [[2, 161, 26.7]]"
   ]
  },
  {
   "cell_type": "code",
   "execution_count": 14,
   "id": "cce56e3c-c80a-4044-9d4b-c4fd432f6878",
   "metadata": {
    "tags": []
   },
   "outputs": [
    {
     "name": "stderr",
     "output_type": "stream",
     "text": [
      "C:\\Users\\01-02\\anaconda3\\Lib\\site-packages\\sklearn\\base.py:439: UserWarning: X does not have valid feature names, but LinearRegression was fitted with feature names\n",
      "  warnings.warn(\n"
     ]
    },
    {
     "data": {
      "text/plain": [
       "array([43.432433])"
      ]
     },
     "execution_count": 14,
     "metadata": {},
     "output_type": "execute_result"
    }
   ],
   "source": [
    "model.predict(temp_label)"
   ]
  },
  {
   "cell_type": "code",
   "execution_count": 15,
   "id": "44466573-1d05-4857-9bd3-6f70e4541afc",
   "metadata": {
    "tags": []
   },
   "outputs": [],
   "source": [
    "# 서비스 배포\n",
    "import pickle"
   ]
  },
  {
   "cell_type": "code",
   "execution_count": 18,
   "id": "e3035757-410e-4820-8f76-81984620b461",
   "metadata": {
    "tags": []
   },
   "outputs": [],
   "source": [
    "with open('../../../datasets/RecurrenceOfSurgery_Regression.pkl', 'wb') as regression_file :\n",
    "    pickle.dump(obj=model, file=regression_file)\n",
    "    pass"
   ]
  },
  {
   "cell_type": "code",
   "execution_count": 19,
   "id": "43e255fa-7787-4cec-a2a5-4801b26f00f9",
   "metadata": {
    "tags": []
   },
   "outputs": [
    {
     "data": {
      "text/plain": [
       "(89.72926381099202, array([ 0.23801685, -0.29248605,  0.01188728]))"
      ]
     },
     "execution_count": 19,
     "metadata": {},
     "output_type": "execute_result"
    }
   ],
   "source": [
    "# 모델 일반화 확인\n",
    "model.intercept_, model.coef_\n",
    "# y = (0.23801685 * 입원기간) + (-0.29248605 * 신장) + (0.01188728 * Large Lymphocyte) + 89.72926381099202"
   ]
  },
  {
   "cell_type": "code",
   "execution_count": 20,
   "id": "a375e142-00a7-4e7b-84a5-24e67f46b7d1",
   "metadata": {
    "tags": []
   },
   "outputs": [
    {
     "data": {
      "text/plain": [
       "43.432433836992026"
      ]
     },
     "execution_count": 20,
     "metadata": {},
     "output_type": "execute_result"
    }
   ],
   "source": [
    "# [[2, 161, 26.7]]\n",
    "(0.23801685 * 2) + (-0.29248605 * 161) + (0.01188728 * 26.7) + 89.72926381099202\n",
    "# array([43.432433])"
   ]
  },
  {
   "cell_type": "code",
   "execution_count": null,
   "id": "0223ff40-9ee2-4e72-b26c-54eb9c04e882",
   "metadata": {},
   "outputs": [],
   "source": []
  }
 ],
 "metadata": {
  "kernelspec": {
   "display_name": "Python 3 (ipykernel)",
   "language": "python",
   "name": "python3"
  },
  "language_info": {
   "codemirror_mode": {
    "name": "ipython",
    "version": 3
   },
   "file_extension": ".py",
   "mimetype": "text/x-python",
   "name": "python",
   "nbconvert_exporter": "python",
   "pygments_lexer": "ipython3",
   "version": "3.11.3"
  }
 },
 "nbformat": 4,
 "nbformat_minor": 5
}
