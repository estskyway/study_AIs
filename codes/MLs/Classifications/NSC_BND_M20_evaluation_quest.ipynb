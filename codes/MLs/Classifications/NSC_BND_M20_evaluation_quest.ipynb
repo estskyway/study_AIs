{
 "cells": [
  {
   "cell_type": "markdown",
   "id": "90f8f6d0-6d76-4beb-9928-b1780f5d0854",
   "metadata": {},
   "source": [
    "### 전처리"
   ]
  },
  {
   "cell_type": "code",
   "execution_count": 1,
   "id": "8abca00f-5f48-4138-b182-93fec7f17e1c",
   "metadata": {},
   "outputs": [],
   "source": [
    "import pymongo as mg\n",
    "import pandas as pd"
   ]
  },
  {
   "cell_type": "code",
   "execution_count": 2,
   "id": "e09bf03b-8e73-43e3-9370-42e7417d8fca",
   "metadata": {},
   "outputs": [],
   "source": [
    "client = mg.MongoClient(host='mongodb://localhost:27017')"
   ]
  },
  {
   "cell_type": "code",
   "execution_count": 3,
   "id": "613b33d5-2338-49ec-a229-7145145f9c64",
   "metadata": {},
   "outputs": [],
   "source": [
    "database = client['db_NHIS']\n",
    "collection = database['NSC2_BND_M20']"
   ]
  },
  {
   "cell_type": "code",
   "execution_count": 4,
   "id": "46cb1e92-2ba4-4c8a-8b23-bbdcaa249b8f",
   "metadata": {},
   "outputs": [],
   "source": [
    "cursor = collection.find({})\n",
    "list_BND_M20 = list(cursor)"
   ]
  },
  {
   "cell_type": "code",
   "execution_count": 5,
   "id": "77e25dff-3e36-4bed-8173-ea3c82c54fe5",
   "metadata": {},
   "outputs": [
    {
     "data": {
      "text/html": [
       "<div>\n",
       "<style scoped>\n",
       "    .dataframe tbody tr th:only-of-type {\n",
       "        vertical-align: middle;\n",
       "    }\n",
       "\n",
       "    .dataframe tbody tr th {\n",
       "        vertical-align: top;\n",
       "    }\n",
       "\n",
       "    .dataframe thead th {\n",
       "        text-align: right;\n",
       "    }\n",
       "</style>\n",
       "<table border=\"1\" class=\"dataframe\">\n",
       "  <thead>\n",
       "    <tr style=\"text-align: right;\">\n",
       "      <th></th>\n",
       "      <th>_id</th>\n",
       "      <th>RN_INDI</th>\n",
       "      <th>BTH_YYYY</th>\n",
       "      <th>DTH_YYYYMM</th>\n",
       "      <th>COD1</th>\n",
       "      <th>COD2</th>\n",
       "      <th>EDC_ADD_RT</th>\n",
       "      <th>ED_RC_TOT_AMT</th>\n",
       "      <th>RN_KEY</th>\n",
       "      <th>RN_INST</th>\n",
       "      <th>...</th>\n",
       "      <th>SICK_SYM1</th>\n",
       "      <th>OFIJ_TYPE</th>\n",
       "      <th>OPRTN_YN</th>\n",
       "      <th>MDCARE_DD_CNT</th>\n",
       "      <th>VSHSP_DD_CNT</th>\n",
       "      <th>TOT_PRSC_DD_CNT</th>\n",
       "      <th>MCARE_RSLT_TYPE</th>\n",
       "      <th>EDC_SBA</th>\n",
       "      <th>EDC_INSUR_BRDN_AMT</th>\n",
       "      <th>STD_YYYY</th>\n",
       "    </tr>\n",
       "  </thead>\n",
       "  <tbody>\n",
       "    <tr>\n",
       "      <th>0</th>\n",
       "      <td>64e6c89b19427f4de4457d5b</td>\n",
       "      <td>294364</td>\n",
       "      <td>1921LE</td>\n",
       "      <td>200707.0</td>\n",
       "      <td>T08-T14</td>\n",
       "      <td>W00-W19</td>\n",
       "      <td>0.15</td>\n",
       "      <td>10590</td>\n",
       "      <td>2002080298703</td>\n",
       "      <td>26452</td>\n",
       "      <td>...</td>\n",
       "      <td>L028</td>\n",
       "      <td>0</td>\n",
       "      <td>0</td>\n",
       "      <td>1</td>\n",
       "      <td>1</td>\n",
       "      <td>3</td>\n",
       "      <td>5.0</td>\n",
       "      <td>3000</td>\n",
       "      <td>7590</td>\n",
       "      <td>2002</td>\n",
       "    </tr>\n",
       "    <tr>\n",
       "      <th>1</th>\n",
       "      <td>64e6c89b19427f4de4457d5c</td>\n",
       "      <td>294364</td>\n",
       "      <td>1921LE</td>\n",
       "      <td>200707.0</td>\n",
       "      <td>T08-T14</td>\n",
       "      <td>W00-W19</td>\n",
       "      <td>0.15</td>\n",
       "      <td>16520</td>\n",
       "      <td>2002090466395</td>\n",
       "      <td>63715</td>\n",
       "      <td>...</td>\n",
       "      <td>J030</td>\n",
       "      <td>NaN</td>\n",
       "      <td>0</td>\n",
       "      <td>1</td>\n",
       "      <td>1</td>\n",
       "      <td>2</td>\n",
       "      <td>5.0</td>\n",
       "      <td>4950</td>\n",
       "      <td>11570</td>\n",
       "      <td>2002</td>\n",
       "    </tr>\n",
       "  </tbody>\n",
       "</table>\n",
       "<p>2 rows × 23 columns</p>\n",
       "</div>"
      ],
      "text/plain": [
       "                        _id  RN_INDI BTH_YYYY  DTH_YYYYMM     COD1     COD2  \\\n",
       "0  64e6c89b19427f4de4457d5b   294364   1921LE    200707.0  T08-T14  W00-W19   \n",
       "1  64e6c89b19427f4de4457d5c   294364   1921LE    200707.0  T08-T14  W00-W19   \n",
       "\n",
       "   EDC_ADD_RT  ED_RC_TOT_AMT         RN_KEY  RN_INST  ...  SICK_SYM1  \\\n",
       "0        0.15          10590  2002080298703    26452  ...       L028   \n",
       "1        0.15          16520  2002090466395    63715  ...       J030   \n",
       "\n",
       "   OFIJ_TYPE  OPRTN_YN MDCARE_DD_CNT VSHSP_DD_CNT  TOT_PRSC_DD_CNT  \\\n",
       "0          0         0             1            1                3   \n",
       "1        NaN         0             1            1                2   \n",
       "\n",
       "   MCARE_RSLT_TYPE  EDC_SBA  EDC_INSUR_BRDN_AMT  STD_YYYY  \n",
       "0              5.0     3000                7590      2002  \n",
       "1              5.0     4950               11570      2002  \n",
       "\n",
       "[2 rows x 23 columns]"
      ]
     },
     "execution_count": 5,
     "metadata": {},
     "output_type": "execute_result"
    }
   ],
   "source": [
    "df_BND_M20 = pd.DataFrame(list_BND_M20)\n",
    "df_BND_M20[:2]"
   ]
  },
  {
   "cell_type": "code",
   "execution_count": 6,
   "id": "eb64aa5d-f14f-4fd5-847f-5f39c723caf8",
   "metadata": {
    "tags": []
   },
   "outputs": [
    {
     "name": "stdout",
     "output_type": "stream",
     "text": [
      "<class 'pandas.core.frame.DataFrame'>\n",
      "RangeIndex: 137163 entries, 0 to 137162\n",
      "Data columns (total 23 columns):\n",
      " #   Column              Non-Null Count   Dtype  \n",
      "---  ------              --------------   -----  \n",
      " 0   _id                 137163 non-null  object \n",
      " 1   RN_INDI             137163 non-null  int64  \n",
      " 2   BTH_YYYY            137163 non-null  object \n",
      " 3   DTH_YYYYMM          10269 non-null   float64\n",
      " 4   COD1                8473 non-null    object \n",
      " 5   COD2                998 non-null     object \n",
      " 6   EDC_ADD_RT          137163 non-null  float64\n",
      " 7   ED_RC_TOT_AMT       137163 non-null  int64  \n",
      " 8   RN_KEY              137163 non-null  int64  \n",
      " 9   RN_INST             137163 non-null  int64  \n",
      " 10  MDCARE_STRT_DT      137163 non-null  int64  \n",
      " 11  FORM_CD             137163 non-null  int64  \n",
      " 12  MCARE_SUBJ_CD       137163 non-null  int64  \n",
      " 13  SICK_SYM1           137163 non-null  object \n",
      " 14  OFIJ_TYPE           134428 non-null  object \n",
      " 15  OPRTN_YN            137163 non-null  int64  \n",
      " 16  MDCARE_DD_CNT       137163 non-null  int64  \n",
      " 17  VSHSP_DD_CNT        137163 non-null  int64  \n",
      " 18  TOT_PRSC_DD_CNT     137163 non-null  int64  \n",
      " 19  MCARE_RSLT_TYPE     133958 non-null  float64\n",
      " 20  EDC_SBA             137163 non-null  int64  \n",
      " 21  EDC_INSUR_BRDN_AMT  137163 non-null  int64  \n",
      " 22  STD_YYYY            137163 non-null  int64  \n",
      "dtypes: float64(3), int64(14), object(6)\n",
      "memory usage: 24.1+ MB\n"
     ]
    }
   ],
   "source": [
    "df_BND_M20.info()"
   ]
  },
  {
   "cell_type": "code",
   "execution_count": 7,
   "id": "543e6d21-83c9-4625-b10c-78c57954f086",
   "metadata": {},
   "outputs": [
    {
     "data": {
      "text/plain": [
       "J209     8244\n",
       "I10      4629\n",
       "I109     3275\n",
       "F_       3203\n",
       "N_       3177\n",
       "         ... \n",
       "H700        1\n",
       "E058        1\n",
       "M5397       1\n",
       "T18         1\n",
       "P289        1\n",
       "Name: SICK_SYM1, Length: 3414, dtype: int64"
      ]
     },
     "execution_count": 7,
     "metadata": {},
     "output_type": "execute_result"
    }
   ],
   "source": [
    "df_BND_M20['SICK_SYM1'].value_counts()"
   ]
  },
  {
   "cell_type": "code",
   "execution_count": 8,
   "id": "bd6c2648-a237-4d8d-a579-82ff536148c2",
   "metadata": {},
   "outputs": [
    {
     "data": {
      "text/plain": [
       "(2, 4, 'J20', 'T18')"
      ]
     },
     "execution_count": 8,
     "metadata": {},
     "output_type": "execute_result"
    }
   ],
   "source": [
    "len('F_'), len('J209'), 'J209'[:3], str('T18')[:3]"
   ]
  },
  {
   "cell_type": "code",
   "execution_count": 9,
   "id": "3099446a-2f97-4fec-871b-8dc9d67c6058",
   "metadata": {},
   "outputs": [],
   "source": [
    "def convertSICK_SYM(sick_sym) :\n",
    "    if len(sick_sym) < 3:\n",
    "        return None\n",
    "    else :\n",
    "        return sick_sym[:3]"
   ]
  },
  {
   "cell_type": "code",
   "execution_count": 10,
   "id": "1f3a2480-6279-4d87-8da9-f1d7cd5da9bb",
   "metadata": {},
   "outputs": [
    {
     "data": {
      "text/plain": [
       "('J20', None)"
      ]
     },
     "execution_count": 10,
     "metadata": {},
     "output_type": "execute_result"
    }
   ],
   "source": [
    "convertSICK_SYM('J209'), convertSICK_SYM('F_')"
   ]
  },
  {
   "cell_type": "code",
   "execution_count": 11,
   "id": "72010c58-24c9-409a-aae8-95cac1869168",
   "metadata": {},
   "outputs": [],
   "source": [
    "df_BND_M20['SICK_SYM1_3'] = df_BND_M20['SICK_SYM1'].apply(convertSICK_SYM)"
   ]
  },
  {
   "cell_type": "code",
   "execution_count": 12,
   "id": "77c00fb1-5e26-46c7-bfc4-c75a8ad74316",
   "metadata": {},
   "outputs": [
    {
     "data": {
      "text/plain": [
       "J20    8917\n",
       "I10    8427\n",
       "J03    4187\n",
       "M54    3904\n",
       "J06    3460\n",
       "       ... \n",
       "G97       1\n",
       "K01       1\n",
       "S28       1\n",
       "I72       1\n",
       "P28       1\n",
       "Name: SICK_SYM1_3, Length: 747, dtype: int64"
      ]
     },
     "execution_count": 12,
     "metadata": {},
     "output_type": "execute_result"
    }
   ],
   "source": [
    "df_BND_M20['SICK_SYM1_3'].value_counts()"
   ]
  },
  {
   "cell_type": "code",
   "execution_count": 13,
   "id": "e905ee73-a976-4c0b-aa70-8d695a33f7f6",
   "metadata": {},
   "outputs": [
    {
     "data": {
      "text/plain": [
       "_id                   0\n",
       "RN_INDI               0\n",
       "BTH_YYYY              0\n",
       "DTH_YYYYMM            0\n",
       "COD1                  0\n",
       "COD2                  0\n",
       "EDC_ADD_RT            0\n",
       "ED_RC_TOT_AMT         0\n",
       "RN_KEY                0\n",
       "RN_INST               0\n",
       "MDCARE_STRT_DT        0\n",
       "FORM_CD               0\n",
       "MCARE_SUBJ_CD         0\n",
       "SICK_SYM1             0\n",
       "OFIJ_TYPE             0\n",
       "OPRTN_YN              0\n",
       "MDCARE_DD_CNT         0\n",
       "VSHSP_DD_CNT          0\n",
       "TOT_PRSC_DD_CNT       0\n",
       "MCARE_RSLT_TYPE       0\n",
       "EDC_SBA               0\n",
       "EDC_INSUR_BRDN_AMT    0\n",
       "STD_YYYY              0\n",
       "SICK_SYM1_3           0\n",
       "dtype: int64"
      ]
     },
     "execution_count": 13,
     "metadata": {},
     "output_type": "execute_result"
    }
   ],
   "source": [
    "df_BND_M20_dropna = df_BND_M20.dropna()\n",
    "df_BND_M20_dropna.isnull().sum()"
   ]
  },
  {
   "cell_type": "code",
   "execution_count": 14,
   "id": "7925ad7d-a689-4ffc-9a09-cc8120895c1c",
   "metadata": {},
   "outputs": [
    {
     "data": {
      "text/html": [
       "<div>\n",
       "<style scoped>\n",
       "    .dataframe tbody tr th:only-of-type {\n",
       "        vertical-align: middle;\n",
       "    }\n",
       "\n",
       "    .dataframe tbody tr th {\n",
       "        vertical-align: top;\n",
       "    }\n",
       "\n",
       "    .dataframe thead th {\n",
       "        text-align: right;\n",
       "    }\n",
       "</style>\n",
       "<table border=\"1\" class=\"dataframe\">\n",
       "  <thead>\n",
       "    <tr style=\"text-align: right;\">\n",
       "      <th></th>\n",
       "      <th>_id</th>\n",
       "      <th>RN_INDI</th>\n",
       "      <th>BTH_YYYY</th>\n",
       "      <th>DTH_YYYYMM</th>\n",
       "      <th>COD1</th>\n",
       "      <th>COD2</th>\n",
       "      <th>EDC_ADD_RT</th>\n",
       "      <th>ED_RC_TOT_AMT</th>\n",
       "      <th>RN_KEY</th>\n",
       "      <th>RN_INST</th>\n",
       "      <th>...</th>\n",
       "      <th>OFIJ_TYPE</th>\n",
       "      <th>OPRTN_YN</th>\n",
       "      <th>MDCARE_DD_CNT</th>\n",
       "      <th>VSHSP_DD_CNT</th>\n",
       "      <th>TOT_PRSC_DD_CNT</th>\n",
       "      <th>MCARE_RSLT_TYPE</th>\n",
       "      <th>EDC_SBA</th>\n",
       "      <th>EDC_INSUR_BRDN_AMT</th>\n",
       "      <th>STD_YYYY</th>\n",
       "      <th>SICK_SYM1_3</th>\n",
       "    </tr>\n",
       "  </thead>\n",
       "  <tbody>\n",
       "    <tr>\n",
       "      <th>0</th>\n",
       "      <td>64e6c89b19427f4de4457d5b</td>\n",
       "      <td>294364</td>\n",
       "      <td>1921LE</td>\n",
       "      <td>200707.0</td>\n",
       "      <td>T08-T14</td>\n",
       "      <td>W00-W19</td>\n",
       "      <td>0.15</td>\n",
       "      <td>10590</td>\n",
       "      <td>2002080298703</td>\n",
       "      <td>26452</td>\n",
       "      <td>...</td>\n",
       "      <td>0</td>\n",
       "      <td>0</td>\n",
       "      <td>1</td>\n",
       "      <td>1</td>\n",
       "      <td>3</td>\n",
       "      <td>5.0</td>\n",
       "      <td>3000</td>\n",
       "      <td>7590</td>\n",
       "      <td>2002</td>\n",
       "      <td>L02</td>\n",
       "    </tr>\n",
       "    <tr>\n",
       "      <th>3</th>\n",
       "      <td>64e6c89b19427f4de4457d5e</td>\n",
       "      <td>294364</td>\n",
       "      <td>1921LE</td>\n",
       "      <td>200707.0</td>\n",
       "      <td>T08-T14</td>\n",
       "      <td>W00-W19</td>\n",
       "      <td>0.15</td>\n",
       "      <td>12920</td>\n",
       "      <td>2002020488631</td>\n",
       "      <td>23506</td>\n",
       "      <td>...</td>\n",
       "      <td>0</td>\n",
       "      <td>0</td>\n",
       "      <td>1</td>\n",
       "      <td>1</td>\n",
       "      <td>3</td>\n",
       "      <td>5.0</td>\n",
       "      <td>3000</td>\n",
       "      <td>9920</td>\n",
       "      <td>2002</td>\n",
       "      <td>K29</td>\n",
       "    </tr>\n",
       "  </tbody>\n",
       "</table>\n",
       "<p>2 rows × 24 columns</p>\n",
       "</div>"
      ],
      "text/plain": [
       "                        _id  RN_INDI BTH_YYYY  DTH_YYYYMM     COD1     COD2  \\\n",
       "0  64e6c89b19427f4de4457d5b   294364   1921LE    200707.0  T08-T14  W00-W19   \n",
       "3  64e6c89b19427f4de4457d5e   294364   1921LE    200707.0  T08-T14  W00-W19   \n",
       "\n",
       "   EDC_ADD_RT  ED_RC_TOT_AMT         RN_KEY  RN_INST  ...  OFIJ_TYPE  \\\n",
       "0        0.15          10590  2002080298703    26452  ...          0   \n",
       "3        0.15          12920  2002020488631    23506  ...          0   \n",
       "\n",
       "   OPRTN_YN  MDCARE_DD_CNT VSHSP_DD_CNT TOT_PRSC_DD_CNT  MCARE_RSLT_TYPE  \\\n",
       "0         0              1            1               3              5.0   \n",
       "3         0              1            1               3              5.0   \n",
       "\n",
       "   EDC_SBA  EDC_INSUR_BRDN_AMT  STD_YYYY  SICK_SYM1_3  \n",
       "0     3000                7590      2002          L02  \n",
       "3     3000                9920      2002          K29  \n",
       "\n",
       "[2 rows x 24 columns]"
      ]
     },
     "execution_count": 14,
     "metadata": {},
     "output_type": "execute_result"
    }
   ],
   "source": [
    "df_BND_M20_dropna[:2]"
   ]
  },
  {
   "cell_type": "code",
   "execution_count": 15,
   "id": "0589084f-898e-43fa-a268-c0e75ae35639",
   "metadata": {},
   "outputs": [],
   "source": [
    "target_list = df_BND_M20_dropna['SICK_SYM1_3'].value_counts().index.to_list()"
   ]
  },
  {
   "cell_type": "code",
   "execution_count": 16,
   "id": "84896978-1b3c-4877-a0f4-a9eaba6b9f12",
   "metadata": {},
   "outputs": [
    {
     "data": {
      "text/plain": [
       "(83, 6)"
      ]
     },
     "execution_count": 16,
     "metadata": {},
     "output_type": "execute_result"
    }
   ],
   "source": [
    "target_list.index('L02'), target_list.index('J03'), "
   ]
  },
  {
   "cell_type": "code",
   "execution_count": 17,
   "id": "7fa947b3-cd9e-4192-8645-97ed252024cd",
   "metadata": {},
   "outputs": [],
   "source": [
    "def applyIndexNumber(sick_sym_3):\n",
    "    indexNumber = target_list.index(sick_sym_3)\n",
    "    return indexNumber"
   ]
  },
  {
   "cell_type": "code",
   "execution_count": 18,
   "id": "7fbd1b9f-09dc-4812-b5a9-10d090682807",
   "metadata": {},
   "outputs": [
    {
     "name": "stderr",
     "output_type": "stream",
     "text": [
      "C:\\Users\\01-02\\AppData\\Local\\Temp\\ipykernel_1496\\836018491.py:1: SettingWithCopyWarning: \n",
      "A value is trying to be set on a copy of a slice from a DataFrame.\n",
      "Try using .loc[row_indexer,col_indexer] = value instead\n",
      "\n",
      "See the caveats in the documentation: https://pandas.pydata.org/pandas-docs/stable/user_guide/indexing.html#returning-a-view-versus-a-copy\n",
      "  df_BND_M20_dropna['SICK_SYM1_3_target'] = df_BND_M20_dropna['SICK_SYM1_3'].apply(applyIndexNumber)\n"
     ]
    },
    {
     "data": {
      "text/html": [
       "<div>\n",
       "<style scoped>\n",
       "    .dataframe tbody tr th:only-of-type {\n",
       "        vertical-align: middle;\n",
       "    }\n",
       "\n",
       "    .dataframe tbody tr th {\n",
       "        vertical-align: top;\n",
       "    }\n",
       "\n",
       "    .dataframe thead th {\n",
       "        text-align: right;\n",
       "    }\n",
       "</style>\n",
       "<table border=\"1\" class=\"dataframe\">\n",
       "  <thead>\n",
       "    <tr style=\"text-align: right;\">\n",
       "      <th></th>\n",
       "      <th>_id</th>\n",
       "      <th>RN_INDI</th>\n",
       "      <th>BTH_YYYY</th>\n",
       "      <th>DTH_YYYYMM</th>\n",
       "      <th>COD1</th>\n",
       "      <th>COD2</th>\n",
       "      <th>EDC_ADD_RT</th>\n",
       "      <th>ED_RC_TOT_AMT</th>\n",
       "      <th>RN_KEY</th>\n",
       "      <th>RN_INST</th>\n",
       "      <th>...</th>\n",
       "      <th>OPRTN_YN</th>\n",
       "      <th>MDCARE_DD_CNT</th>\n",
       "      <th>VSHSP_DD_CNT</th>\n",
       "      <th>TOT_PRSC_DD_CNT</th>\n",
       "      <th>MCARE_RSLT_TYPE</th>\n",
       "      <th>EDC_SBA</th>\n",
       "      <th>EDC_INSUR_BRDN_AMT</th>\n",
       "      <th>STD_YYYY</th>\n",
       "      <th>SICK_SYM1_3</th>\n",
       "      <th>SICK_SYM1_3_target</th>\n",
       "    </tr>\n",
       "  </thead>\n",
       "  <tbody>\n",
       "    <tr>\n",
       "      <th>0</th>\n",
       "      <td>64e6c89b19427f4de4457d5b</td>\n",
       "      <td>294364</td>\n",
       "      <td>1921LE</td>\n",
       "      <td>200707.0</td>\n",
       "      <td>T08-T14</td>\n",
       "      <td>W00-W19</td>\n",
       "      <td>0.15</td>\n",
       "      <td>10590</td>\n",
       "      <td>2002080298703</td>\n",
       "      <td>26452</td>\n",
       "      <td>...</td>\n",
       "      <td>0</td>\n",
       "      <td>1</td>\n",
       "      <td>1</td>\n",
       "      <td>3</td>\n",
       "      <td>5.0</td>\n",
       "      <td>3000</td>\n",
       "      <td>7590</td>\n",
       "      <td>2002</td>\n",
       "      <td>L02</td>\n",
       "      <td>83</td>\n",
       "    </tr>\n",
       "    <tr>\n",
       "      <th>3</th>\n",
       "      <td>64e6c89b19427f4de4457d5e</td>\n",
       "      <td>294364</td>\n",
       "      <td>1921LE</td>\n",
       "      <td>200707.0</td>\n",
       "      <td>T08-T14</td>\n",
       "      <td>W00-W19</td>\n",
       "      <td>0.15</td>\n",
       "      <td>12920</td>\n",
       "      <td>2002020488631</td>\n",
       "      <td>23506</td>\n",
       "      <td>...</td>\n",
       "      <td>0</td>\n",
       "      <td>1</td>\n",
       "      <td>1</td>\n",
       "      <td>3</td>\n",
       "      <td>5.0</td>\n",
       "      <td>3000</td>\n",
       "      <td>9920</td>\n",
       "      <td>2002</td>\n",
       "      <td>K29</td>\n",
       "      <td>8</td>\n",
       "    </tr>\n",
       "  </tbody>\n",
       "</table>\n",
       "<p>2 rows × 25 columns</p>\n",
       "</div>"
      ],
      "text/plain": [
       "                        _id  RN_INDI BTH_YYYY  DTH_YYYYMM     COD1     COD2  \\\n",
       "0  64e6c89b19427f4de4457d5b   294364   1921LE    200707.0  T08-T14  W00-W19   \n",
       "3  64e6c89b19427f4de4457d5e   294364   1921LE    200707.0  T08-T14  W00-W19   \n",
       "\n",
       "   EDC_ADD_RT  ED_RC_TOT_AMT         RN_KEY  RN_INST  ...  OPRTN_YN  \\\n",
       "0        0.15          10590  2002080298703    26452  ...         0   \n",
       "3        0.15          12920  2002020488631    23506  ...         0   \n",
       "\n",
       "   MDCARE_DD_CNT  VSHSP_DD_CNT TOT_PRSC_DD_CNT MCARE_RSLT_TYPE  EDC_SBA  \\\n",
       "0              1             1               3             5.0     3000   \n",
       "3              1             1               3             5.0     3000   \n",
       "\n",
       "   EDC_INSUR_BRDN_AMT  STD_YYYY  SICK_SYM1_3  SICK_SYM1_3_target  \n",
       "0                7590      2002          L02                  83  \n",
       "3                9920      2002          K29                   8  \n",
       "\n",
       "[2 rows x 25 columns]"
      ]
     },
     "execution_count": 18,
     "metadata": {},
     "output_type": "execute_result"
    }
   ],
   "source": [
    "df_BND_M20_dropna['SICK_SYM1_3_target'] = df_BND_M20_dropna['SICK_SYM1_3'].apply(applyIndexNumber)\n",
    "df_BND_M20_dropna[:2]"
   ]
  },
  {
   "cell_type": "code",
   "execution_count": 19,
   "id": "e1224e3a-a924-4eb8-96d5-a9e3535209df",
   "metadata": {},
   "outputs": [
    {
     "name": "stdout",
     "output_type": "stream",
     "text": [
      "<class 'pandas.core.frame.DataFrame'>\n",
      "Int64Index: 829 entries, 0 to 30084\n",
      "Data columns (total 25 columns):\n",
      " #   Column              Non-Null Count  Dtype  \n",
      "---  ------              --------------  -----  \n",
      " 0   _id                 829 non-null    object \n",
      " 1   RN_INDI             829 non-null    int64  \n",
      " 2   BTH_YYYY            829 non-null    object \n",
      " 3   DTH_YYYYMM          829 non-null    float64\n",
      " 4   COD1                829 non-null    object \n",
      " 5   COD2                829 non-null    object \n",
      " 6   EDC_ADD_RT          829 non-null    float64\n",
      " 7   ED_RC_TOT_AMT       829 non-null    int64  \n",
      " 8   RN_KEY              829 non-null    int64  \n",
      " 9   RN_INST             829 non-null    int64  \n",
      " 10  MDCARE_STRT_DT      829 non-null    int64  \n",
      " 11  FORM_CD             829 non-null    int64  \n",
      " 12  MCARE_SUBJ_CD       829 non-null    int64  \n",
      " 13  SICK_SYM1           829 non-null    object \n",
      " 14  OFIJ_TYPE           829 non-null    object \n",
      " 15  OPRTN_YN            829 non-null    int64  \n",
      " 16  MDCARE_DD_CNT       829 non-null    int64  \n",
      " 17  VSHSP_DD_CNT        829 non-null    int64  \n",
      " 18  TOT_PRSC_DD_CNT     829 non-null    int64  \n",
      " 19  MCARE_RSLT_TYPE     829 non-null    float64\n",
      " 20  EDC_SBA             829 non-null    int64  \n",
      " 21  EDC_INSUR_BRDN_AMT  829 non-null    int64  \n",
      " 22  STD_YYYY            829 non-null    int64  \n",
      " 23  SICK_SYM1_3         829 non-null    object \n",
      " 24  SICK_SYM1_3_target  829 non-null    int64  \n",
      "dtypes: float64(3), int64(15), object(7)\n",
      "memory usage: 168.4+ KB\n"
     ]
    }
   ],
   "source": [
    "df_BND_M20_dropna.info()"
   ]
  },
  {
   "cell_type": "code",
   "execution_count": null,
   "id": "548c7424-0b33-463b-9818-accac8464fd4",
   "metadata": {},
   "outputs": [],
   "source": []
  },
  {
   "cell_type": "code",
   "execution_count": 22,
   "id": "f9884e8d-5262-49d8-9530-4f9dc3500ee7",
   "metadata": {},
   "outputs": [],
   "source": [
    "# 정형화\n",
    "from sklearn.model_selection import train_test_split\n",
    "target = df_BND_M20_dropna['SICK_SYM1_3_target']\n",
    "features = df_BND_M20_dropna[['ED_RC_TOT_AMT', 'RN_KEY', 'RN_INST', 'MDCARE_STRT_DT', 'FORM_CD']]"
   ]
  },
  {
   "cell_type": "code",
   "execution_count": 23,
   "id": "869969d5-93b4-486f-8847-aadd18d65825",
   "metadata": {
    "tags": []
   },
   "outputs": [
    {
     "data": {
      "text/plain": [
       "((621, 5), (621,), (208, 5), (208,))"
      ]
     },
     "execution_count": 23,
     "metadata": {},
     "output_type": "execute_result"
    }
   ],
   "source": [
    "features_train, features_test, target_train, target_test = train_test_split(features, target, random_state=111)\n",
    "features_train.shape, target_train.shape, features_test.shape, target_test.shape"
   ]
  },
  {
   "cell_type": "code",
   "execution_count": 24,
   "id": "93621b07-7844-47e2-894e-ff43122fd591",
   "metadata": {
    "tags": []
   },
   "outputs": [
    {
     "data": {
      "text/html": [
       "<style>#sk-container-id-1 {color: black;background-color: white;}#sk-container-id-1 pre{padding: 0;}#sk-container-id-1 div.sk-toggleable {background-color: white;}#sk-container-id-1 label.sk-toggleable__label {cursor: pointer;display: block;width: 100%;margin-bottom: 0;padding: 0.3em;box-sizing: border-box;text-align: center;}#sk-container-id-1 label.sk-toggleable__label-arrow:before {content: \"▸\";float: left;margin-right: 0.25em;color: #696969;}#sk-container-id-1 label.sk-toggleable__label-arrow:hover:before {color: black;}#sk-container-id-1 div.sk-estimator:hover label.sk-toggleable__label-arrow:before {color: black;}#sk-container-id-1 div.sk-toggleable__content {max-height: 0;max-width: 0;overflow: hidden;text-align: left;background-color: #f0f8ff;}#sk-container-id-1 div.sk-toggleable__content pre {margin: 0.2em;color: black;border-radius: 0.25em;background-color: #f0f8ff;}#sk-container-id-1 input.sk-toggleable__control:checked~div.sk-toggleable__content {max-height: 200px;max-width: 100%;overflow: auto;}#sk-container-id-1 input.sk-toggleable__control:checked~label.sk-toggleable__label-arrow:before {content: \"▾\";}#sk-container-id-1 div.sk-estimator input.sk-toggleable__control:checked~label.sk-toggleable__label {background-color: #d4ebff;}#sk-container-id-1 div.sk-label input.sk-toggleable__control:checked~label.sk-toggleable__label {background-color: #d4ebff;}#sk-container-id-1 input.sk-hidden--visually {border: 0;clip: rect(1px 1px 1px 1px);clip: rect(1px, 1px, 1px, 1px);height: 1px;margin: -1px;overflow: hidden;padding: 0;position: absolute;width: 1px;}#sk-container-id-1 div.sk-estimator {font-family: monospace;background-color: #f0f8ff;border: 1px dotted black;border-radius: 0.25em;box-sizing: border-box;margin-bottom: 0.5em;}#sk-container-id-1 div.sk-estimator:hover {background-color: #d4ebff;}#sk-container-id-1 div.sk-parallel-item::after {content: \"\";width: 100%;border-bottom: 1px solid gray;flex-grow: 1;}#sk-container-id-1 div.sk-label:hover label.sk-toggleable__label {background-color: #d4ebff;}#sk-container-id-1 div.sk-serial::before {content: \"\";position: absolute;border-left: 1px solid gray;box-sizing: border-box;top: 0;bottom: 0;left: 50%;z-index: 0;}#sk-container-id-1 div.sk-serial {display: flex;flex-direction: column;align-items: center;background-color: white;padding-right: 0.2em;padding-left: 0.2em;position: relative;}#sk-container-id-1 div.sk-item {position: relative;z-index: 1;}#sk-container-id-1 div.sk-parallel {display: flex;align-items: stretch;justify-content: center;background-color: white;position: relative;}#sk-container-id-1 div.sk-item::before, #sk-container-id-1 div.sk-parallel-item::before {content: \"\";position: absolute;border-left: 1px solid gray;box-sizing: border-box;top: 0;bottom: 0;left: 50%;z-index: -1;}#sk-container-id-1 div.sk-parallel-item {display: flex;flex-direction: column;z-index: 1;position: relative;background-color: white;}#sk-container-id-1 div.sk-parallel-item:first-child::after {align-self: flex-end;width: 50%;}#sk-container-id-1 div.sk-parallel-item:last-child::after {align-self: flex-start;width: 50%;}#sk-container-id-1 div.sk-parallel-item:only-child::after {width: 0;}#sk-container-id-1 div.sk-dashed-wrapped {border: 1px dashed gray;margin: 0 0.4em 0.5em 0.4em;box-sizing: border-box;padding-bottom: 0.4em;background-color: white;}#sk-container-id-1 div.sk-label label {font-family: monospace;font-weight: bold;display: inline-block;line-height: 1.2em;}#sk-container-id-1 div.sk-label-container {text-align: center;}#sk-container-id-1 div.sk-container {/* jupyter's `normalize.less` sets `[hidden] { display: none; }` but bootstrap.min.css set `[hidden] { display: none !important; }` so we also need the `!important` here to be able to override the default hidden behavior on the sphinx rendered scikit-learn.org. See: https://github.com/scikit-learn/scikit-learn/issues/21755 */display: inline-block !important;position: relative;}#sk-container-id-1 div.sk-text-repr-fallback {display: none;}</style><div id=\"sk-container-id-1\" class=\"sk-top-container\"><div class=\"sk-text-repr-fallback\"><pre>LogisticRegression()</pre><b>In a Jupyter environment, please rerun this cell to show the HTML representation or trust the notebook. <br />On GitHub, the HTML representation is unable to render, please try loading this page with nbviewer.org.</b></div><div class=\"sk-container\" hidden><div class=\"sk-item\"><div class=\"sk-estimator sk-toggleable\"><input class=\"sk-toggleable__control sk-hidden--visually\" id=\"sk-estimator-id-1\" type=\"checkbox\" checked><label for=\"sk-estimator-id-1\" class=\"sk-toggleable__label sk-toggleable__label-arrow\">LogisticRegression</label><div class=\"sk-toggleable__content\"><pre>LogisticRegression()</pre></div></div></div></div></div>"
      ],
      "text/plain": [
       "LogisticRegression()"
      ]
     },
     "execution_count": 24,
     "metadata": {},
     "output_type": "execute_result"
    }
   ],
   "source": [
    "# 모델학습\n",
    "from sklearn.linear_model import LogisticRegression\n",
    "model = LogisticRegression()  \n",
    "model.fit(features_train, target_train)  "
   ]
  },
  {
   "cell_type": "code",
   "execution_count": 25,
   "id": "efa3cd47-bb67-4a72-b2cb-dc60e3c0d2d6",
   "metadata": {
    "collapsed": true,
    "jupyter": {
     "outputs_hidden": true
    },
    "tags": []
   },
   "outputs": [
    {
     "data": {
      "text/plain": [
       "(array([[-1.83770636e-18,  1.46740118e-12,  1.73239793e-19,\n",
       "          1.46740147e-17,  2.99738766e-24],\n",
       "        [ 3.50490372e-18,  1.42900905e-12,  1.05538533e-18,\n",
       "          1.42900770e-17,  1.51070721e-24],\n",
       "        [-1.02280473e-18,  1.18468252e-12, -2.09336484e-19,\n",
       "          1.18467444e-17,  2.15811730e-24],\n",
       "        [-9.87413483e-19,  1.16726429e-12,  2.39544085e-19,\n",
       "          1.16726523e-17,  2.17642381e-24],\n",
       "        [ 1.56888649e-19,  1.07334029e-12, -8.78564108e-19,\n",
       "          1.07334330e-17,  1.31244033e-24],\n",
       "        [-9.79925525e-19,  1.15001106e-12, -8.62675056e-20,\n",
       "          1.15000783e-17,  2.11246395e-24],\n",
       "        [-9.10043795e-19,  1.11306541e-12,  6.69596689e-19,\n",
       "          1.11306671e-17,  2.03305913e-24],\n",
       "        [ 8.65683715e-19,  9.29870676e-13, -5.88922336e-19,\n",
       "          9.29875733e-18,  4.07615403e-25],\n",
       "        [-4.51536364e-19,  7.68067012e-13, -1.00366564e-19,\n",
       "          7.68068620e-18,  1.32886586e-24],\n",
       "        [-4.52156344e-19,  8.04727804e-13,  1.35306924e-19,\n",
       "          8.04726024e-18,  1.40984346e-24],\n",
       "        [-2.63205204e-19,  6.86086710e-13,  1.21242889e-20,\n",
       "          6.86084552e-18,  1.12952096e-24],\n",
       "        [-3.86834252e-19,  7.67307839e-13,  5.08666432e-20,\n",
       "          7.67306419e-18,  1.36447071e-24],\n",
       "        [ 2.44725438e-19,  5.27283038e-13,  5.66042125e-20,\n",
       "          5.27281000e-18,  8.71137027e-25],\n",
       "        [-3.07687305e-19,  6.39029641e-13, -3.21607857e-19,\n",
       "          6.39031755e-18,  1.03574838e-24],\n",
       "        [-2.13685319e-19,  4.59486333e-13, -1.10764871e-19,\n",
       "          4.59490623e-18,  7.91880697e-25],\n",
       "        [-2.12428765e-19,  5.27499471e-13,  2.67879649e-20,\n",
       "          5.27498826e-18,  8.65003383e-25],\n",
       "        [-3.17386906e-19,  5.84511543e-13,  2.12838428e-19,\n",
       "          5.84515443e-18,  1.01587289e-24],\n",
       "        [-2.61144952e-19,  5.27005089e-13, -9.45911096e-20,\n",
       "          5.27006197e-18,  8.79009894e-25],\n",
       "        [-2.85346362e-19,  6.38086957e-13,  1.28980309e-19,\n",
       "          6.38086921e-18,  1.06955778e-24],\n",
       "        [-1.87244018e-19,  3.83271930e-13,  3.80770240e-20,\n",
       "          3.83273663e-18,  6.52156963e-25],\n",
       "        [-2.22217593e-19,  4.59630357e-13, -6.96434260e-20,\n",
       "          4.59629290e-18,  7.88343308e-25],\n",
       "        [-1.85005870e-19,  4.60587817e-13,  6.72132571e-20,\n",
       "          4.60584246e-18,  7.64799818e-25],\n",
       "        [-2.75525083e-19,  5.85688453e-13,  4.42719693e-20,\n",
       "          5.85686181e-18,  9.78168058e-25],\n",
       "        [-1.62963054e-19,  3.83437760e-13,  1.16003498e-19,\n",
       "          3.83439633e-18,  6.48689311e-25],\n",
       "        [-1.76791292e-19,  2.91440724e-13, -5.56705523e-20,\n",
       "          2.91443263e-18,  5.24347702e-25],\n",
       "        [-1.37305842e-19,  2.93419590e-13,  7.71900484e-20,\n",
       "          2.93422116e-18,  4.90410029e-25],\n",
       "        [ 8.84254946e-22,  3.75841939e-14,  1.15750577e-20,\n",
       "          3.75828658e-19, -5.17395293e-25],\n",
       "        [-1.74165965e-19,  2.91843829e-13,  8.82035394e-21,\n",
       "          2.91842086e-18,  5.17446524e-25],\n",
       "        [-1.81271887e-19,  3.83077362e-13, -1.91721252e-20,\n",
       "          3.83079188e-18,  6.56223991e-25],\n",
       "        [-8.52542510e-20,  2.92187140e-13,  2.25255131e-20,\n",
       "          2.92184466e-18,  5.11564148e-25],\n",
       "        [-1.78149880e-19,  2.93365123e-13, -8.73994638e-20,\n",
       "          2.93365517e-18,  4.91346147e-25],\n",
       "        [-1.43496926e-19,  1.81714037e-13,  2.93153669e-20,\n",
       "          1.81711803e-18,  3.20992061e-25],\n",
       "        [-1.49753243e-19,  1.82145683e-13,  1.27241227e-19,\n",
       "          1.82146534e-18,  3.15205656e-25],\n",
       "        [-1.19281068e-19,  1.82949034e-13, -1.06309662e-19,\n",
       "          1.82948255e-18,  3.04421617e-25],\n",
       "        [-1.20306243e-19,  1.82824611e-13, -2.51012091e-20,\n",
       "          1.82824889e-18,  3.06093101e-25],\n",
       "        [-1.72298922e-19,  2.92090852e-13,  1.01546279e-19,\n",
       "          2.92092765e-18,  5.13214421e-25],\n",
       "        [-6.44828608e-20,  3.72610418e-14, -3.92090452e-20,\n",
       "          3.72626240e-19,  1.08710898e-25],\n",
       "        [ 1.67652541e-19,  3.91546824e-14,  1.88120780e-21,\n",
       "          3.91538753e-19,  9.02700444e-26],\n",
       "        [ 6.90004466e-19,  3.95447157e-14, -3.03224180e-20,\n",
       "          3.95437446e-19, -5.36503008e-25],\n",
       "        [-1.05192026e-19,  3.83220841e-14, -4.08780688e-20,\n",
       "          3.83218806e-19,  9.83879664e-26],\n",
       "        [-1.23508141e-19,  1.80284201e-13, -6.29976288e-20,\n",
       "          1.80282683e-18,  3.40120162e-25],\n",
       "        [-1.67117708e-19,  2.92337745e-13, -8.94471838e-20,\n",
       "          2.92337645e-18,  5.08982218e-25],\n",
       "        [-1.60112419e-19,  2.91936108e-13, -1.74811280e-20,\n",
       "          2.91938688e-18,  5.15865840e-25],\n",
       "        [-2.03622135e-20, -1.62484524e-13,  6.81230906e-21,\n",
       "         -1.62483562e-18, -2.20565420e-25],\n",
       "        [-1.37578483e-19,  1.80529306e-13,  1.65290578e-19,\n",
       "          1.80529460e-18,  3.36845496e-25],\n",
       "        [-9.94756558e-20,  3.87323296e-14, -2.28648612e-20,\n",
       "          3.87319364e-19,  9.43899570e-26],\n",
       "        [-1.24810198e-19,  1.81216728e-13,  5.92794023e-20,\n",
       "          1.81216275e-18,  3.27651852e-25],\n",
       "        [-4.06702373e-20,  3.72485734e-14,  8.08535131e-23,\n",
       "          3.72501748e-19,  1.08832054e-25],\n",
       "        [-1.07681402e-19,  3.73237469e-14, -2.81353102e-20,\n",
       "          3.73255675e-19,  1.08101532e-25],\n",
       "        [-6.30354307e-20,  3.89058996e-14, -1.13009578e-19,\n",
       "          3.89056325e-19,  9.26973196e-26],\n",
       "        [-1.07844378e-19,  3.97266997e-14,  3.77728205e-20,\n",
       "          3.97262552e-19,  8.46838688e-26],\n",
       "        [-7.38383858e-20, -1.61995332e-13, -5.88509236e-20,\n",
       "         -1.61993136e-18, -2.23459021e-25],\n",
       "        [-1.01151863e-19,  3.86542525e-14,  4.31416376e-20,\n",
       "          3.86526227e-19,  9.51511389e-26],\n",
       "        [ 3.94584476e-18,  1.81342868e-13, -1.46311832e-19,\n",
       "          1.81342719e-18, -9.19966428e-25],\n",
       "        [-1.14579172e-19,  1.80219991e-13, -3.71603131e-20,\n",
       "          1.80220988e-18,  3.40977724e-25],\n",
       "        [-4.30326824e-20,  3.71744207e-14, -1.76157113e-20,\n",
       "          3.71746727e-19,  1.09552534e-25],\n",
       "        [-6.76130962e-20,  3.91406790e-14, -3.56681611e-20,\n",
       "          3.91393662e-19,  9.04067068e-26],\n",
       "        [-5.20826934e-20, -5.07266817e-13, -1.21746598e-21,\n",
       "         -5.07266764e-18, -7.42666616e-25],\n",
       "        [-7.02595885e-20, -1.64614776e-13, -3.46256673e-20,\n",
       "         -1.64614553e-18, -2.08008540e-25],\n",
       "        [-4.97985659e-20, -5.09841977e-13,  2.36757230e-20,\n",
       "         -5.09841888e-18, -7.36260929e-25],\n",
       "        [-9.18480623e-20,  3.89879406e-14,  4.78108193e-20,\n",
       "          3.89867808e-19,  9.18970298e-26],\n",
       "        [-1.02539852e-19,  3.84091584e-14,  8.22668676e-20,\n",
       "          3.84082899e-19,  9.75397048e-26],\n",
       "        [-8.49047469e-20,  3.68378851e-14, -7.15837610e-21,\n",
       "          3.68390624e-19,  1.12820834e-25],\n",
       "        [-5.62236850e-20, -5.07504027e-13, -2.67624384e-20,\n",
       "         -5.07503306e-18, -7.42075038e-25],\n",
       "        [-1.07365973e-19,  3.73335435e-14, -1.27621312e-22,\n",
       "          3.73344034e-19,  1.08006322e-25],\n",
       "        [-6.79754023e-20, -1.63364562e-13,  1.25331635e-20,\n",
       "         -1.63366138e-18, -2.15369382e-25],\n",
       "        [ 1.28719816e-18, -1.65002749e-13, -5.71894073e-20,\n",
       "         -1.65003946e-18, -8.28694130e-25],\n",
       "        [-7.40874937e-20, -1.63491027e-13, -1.12286662e-20,\n",
       "         -1.63491224e-18, -2.14623687e-25],\n",
       "        [-8.66722234e-20, -1.63000727e-13,  4.23348824e-20,\n",
       "         -1.62998388e-18, -2.17516116e-25],\n",
       "        [-1.88199780e-20,  3.78238834e-14, -3.11745941e-20,\n",
       "          3.78224155e-19,  1.03238101e-25],\n",
       "        [-5.31574509e-20, -1.63612079e-13, -3.91208251e-20,\n",
       "         -1.63613148e-18, -2.13910148e-25],\n",
       "        [-4.50302182e-20, -1.62230848e-13,  1.15922925e-20,\n",
       "         -1.62230941e-18, -2.22065459e-25],\n",
       "        [-4.17348192e-20, -5.08212345e-13, -1.16654568e-21,\n",
       "         -5.08212457e-18, -7.40310401e-25],\n",
       "        [-6.75243221e-20, -1.64750579e-13,  7.03013589e-20,\n",
       "         -1.64748893e-18, -2.07210451e-25],\n",
       "        [-7.29060467e-20, -1.62859223e-13,  5.55025000e-20,\n",
       "         -1.62859681e-18, -2.18351590e-25],\n",
       "        [-7.82128931e-20, -1.61986218e-13,  5.53909473e-20,\n",
       "         -1.61987237e-18, -2.23512971e-25],\n",
       "        [-4.97498191e-20, -1.62995613e-13,  8.25528424e-20,\n",
       "         -1.62995581e-18, -2.17546304e-25],\n",
       "        [-8.02744428e-20, -1.62868250e-13,  5.55036521e-20,\n",
       "         -1.62868444e-18, -2.18298283e-25],\n",
       "        [-1.58938616e-20, -1.64125996e-13, -5.72491857e-21,\n",
       "         -1.64125194e-18, -2.10883408e-25],\n",
       "        [-7.70232371e-20, -1.64494628e-13, -3.24337687e-20,\n",
       "         -1.64492253e-18, -2.08714873e-25],\n",
       "        [-7.14373789e-21, -5.09849087e-13, -1.98591733e-20,\n",
       "         -5.09848304e-18, -7.36243292e-25],\n",
       "        [-5.58404764e-20, -5.10065799e-13, -3.98048622e-20,\n",
       "         -5.10064582e-18, -7.35705886e-25],\n",
       "        [-5.45462250e-20, -5.07740686e-13,  4.46894874e-21,\n",
       "         -5.07741046e-18, -7.41485143e-25],\n",
       "        [-4.39534682e-20, -1.64735413e-13,  2.24308118e-20,\n",
       "         -1.64734944e-18, -2.07299561e-25],\n",
       "        [-7.05543343e-20, -1.62002565e-13, -4.37518216e-20,\n",
       "         -1.62003813e-18, -2.23416213e-25],\n",
       "        [-2.10561492e-20, -1.63743777e-13, -3.13475170e-20,\n",
       "         -1.63743865e-18, -2.13134113e-25],\n",
       "        [ 2.89633321e-18, -5.07752682e-13, -5.43563556e-20,\n",
       "         -5.07753146e-18, -1.36442013e-24],\n",
       "        [-8.16199063e-20, -1.64367865e-13,  3.41880496e-20,\n",
       "         -1.64366511e-18, -2.09460334e-25],\n",
       "        [-8.06434957e-20, -1.63606175e-13,  3.35155046e-20,\n",
       "         -1.63605536e-18, -2.13944941e-25],\n",
       "        [-5.52347612e-20, -5.07269065e-13, -4.63941347e-20,\n",
       "         -5.07269211e-18, -7.42661010e-25],\n",
       "        [-1.78074999e-20, -5.10082130e-13, -4.05222657e-20,\n",
       "         -5.10081184e-18, -7.35665398e-25],\n",
       "        [-4.78776568e-20, -5.07267213e-13,  6.31170884e-21,\n",
       "         -5.07266659e-18, -7.42665629e-25],\n",
       "        [-5.41448315e-20, -5.07264738e-13, -6.93452674e-21,\n",
       "         -5.07265590e-18, -7.42671802e-25],\n",
       "        [-5.57639687e-20, -5.09362222e-13, -7.60540167e-21,\n",
       "         -5.09361266e-18, -7.37451564e-25],\n",
       "        [ 4.00426513e-20, -5.07496899e-13, -2.74194275e-20,\n",
       "         -5.07497543e-18, -7.42092811e-25],\n",
       "        [-4.52663391e-20, -5.07285518e-13, -2.74308199e-20,\n",
       "         -5.07286497e-18, -7.42619967e-25],\n",
       "        [ 2.03999740e-20, -5.07278587e-13, -5.01046232e-20,\n",
       "         -5.07278789e-18, -7.42637257e-25],\n",
       "        [-5.28189009e-20, -5.07977918e-13, -4.92284416e-20,\n",
       "         -5.07978467e-18, -7.40894127e-25],\n",
       "        [-4.82892747e-20, -5.07051246e-13,  2.70566300e-20,\n",
       "         -5.07051244e-18, -7.43204499e-25],\n",
       "        [-4.51934358e-20, -5.07046290e-13, -3.81325509e-20,\n",
       "         -5.07047379e-18, -7.43216868e-25],\n",
       "        [-4.74076008e-20, -5.08670752e-13, -2.03578715e-20,\n",
       "         -5.08670359e-18, -7.39169837e-25],\n",
       "        [ 1.76306673e-19, -5.09844282e-13, -5.45579516e-20,\n",
       "         -5.09843949e-18, -1.35922009e-24],\n",
       "        [-5.05605318e-20, -5.09599779e-13, -1.82011262e-20,\n",
       "         -5.09600248e-18, -7.36861848e-25],\n",
       "        [-4.56481584e-20, -5.09133869e-13, -4.80885718e-20,\n",
       "         -5.09133663e-18, -7.38018721e-25],\n",
       "        [ 2.00497210e-21, -5.07506202e-13,  8.69933144e-21,\n",
       "         -5.07506999e-18, -7.42069616e-25],\n",
       "        [ 1.76285825e-18, -5.08435834e-13, -5.43195940e-20,\n",
       "         -5.08436172e-18, -1.36271907e-24],\n",
       "        [ 1.14782967e-20, -5.08203232e-13,  1.41142925e-20,\n",
       "         -5.08204090e-18, -7.40333087e-25],\n",
       "        [ 6.15705250e-19, -5.08426435e-13, -5.43200994e-20,\n",
       "         -5.08426843e-18, -1.36274246e-24],\n",
       "        [-3.93866486e-20, -5.08205527e-13, -3.44101872e-20,\n",
       "         -5.08206092e-18, -7.40327375e-25],\n",
       "        [-5.08425689e-20, -5.07273913e-13, -1.17327306e-20,\n",
       "         -5.07275193e-18, -7.42648917e-25],\n",
       "        [-4.85947724e-20, -5.07985062e-13,  9.46333293e-21,\n",
       "         -5.07984652e-18, -7.40876333e-25],\n",
       "        [-5.43730784e-20, -5.07510733e-13,  6.94156867e-21,\n",
       "         -5.07510653e-18, -7.42058320e-25],\n",
       "        [-4.55411408e-20, -5.07273863e-13, -2.67748432e-20,\n",
       "         -5.07274155e-18, -7.42649041e-25],\n",
       "        [-5.63887944e-20, -5.07034931e-13, -5.96414897e-22,\n",
       "         -5.07035670e-18, -7.43245217e-25],\n",
       "        [-5.38966577e-20, -5.07039563e-13,  6.91616839e-21,\n",
       "         -5.07039581e-18, -7.43233657e-25],\n",
       "        [-5.70907490e-20, -5.09364488e-13,  2.50088001e-20,\n",
       "         -5.09364945e-18, -7.37445938e-25],\n",
       "        [-5.52436717e-20, -5.08684625e-13,  2.43879494e-20,\n",
       "         -5.08684523e-18, -7.39135337e-25],\n",
       "        [-5.47656707e-20, -5.08447517e-13,  1.41274312e-20,\n",
       "         -5.08448019e-18, -7.39725126e-25],\n",
       "        [-5.48990379e-20, -5.08196079e-13,  2.10045222e-20,\n",
       "         -5.08197229e-18, -7.40350895e-25],\n",
       "        [-5.79105451e-20, -5.09616119e-13,  1.79553857e-20,\n",
       "         -5.09616247e-18, -7.36821297e-25],\n",
       "        [-5.21023779e-20, -5.07041917e-13,  1.24824865e-20,\n",
       "         -5.07041722e-18, -7.43227781e-25]]),\n",
       " array([ 7.56775071e-25,  6.94775694e-25,  5.83340305e-25,  5.94203711e-25,\n",
       "         5.36831901e-25,  5.77437478e-25,  5.60199156e-25,  4.70459641e-25,\n",
       "         3.84992198e-25,  4.07473297e-25,  3.27472625e-25,  3.96950326e-25,\n",
       "         2.54840872e-25,  3.00694461e-25,  2.32938381e-25,  2.52780846e-25,\n",
       "         2.98735221e-25,  2.57485029e-25,  3.12049576e-25,  1.90727615e-25,\n",
       "         2.31750325e-25,  2.23843080e-25,  2.86071797e-25,  1.89562980e-25,\n",
       "         1.52518549e-25,  1.41120341e-25,  2.13026301e-26,  1.50200740e-25,\n",
       "         1.92093555e-25,  1.48225102e-25,  1.41434743e-25,  8.89368581e-26,\n",
       "         8.69934523e-26,  8.33715548e-26,  8.39329348e-26,  1.48779358e-25,\n",
       "         2.23576632e-26,  1.61641672e-26,  1.48851635e-26,  1.88906309e-26,\n",
       "         9.53611687e-26,  1.47357942e-25,  1.49669856e-25, -8.35149643e-26,\n",
       "         9.42613486e-26,  1.75478701e-26,  9.11735969e-26,  2.23983545e-26,\n",
       "         2.21530034e-26,  1.69793854e-26,  1.42880091e-26, -8.44868019e-26,\n",
       "         1.78035186e-26,  9.06064932e-26,  9.56491871e-26,  2.26403330e-26,\n",
       "         1.62100663e-26, -2.54148968e-25, -7.92976417e-26, -2.51997568e-25,\n",
       "         1.67106022e-26,  1.86057360e-26,  2.37380155e-26, -2.53950281e-25,\n",
       "         2.21210261e-26, -8.17698357e-26, -7.85321258e-26, -8.15193885e-26,\n",
       "        -8.24908326e-26,  2.05195842e-26, -8.12797410e-26, -8.40187636e-26,\n",
       "        -2.53357615e-25, -7.90295976e-26, -8.27714328e-26, -8.45049216e-26,\n",
       "        -8.25009713e-26, -8.27535292e-26, -8.02631875e-26, -7.95348688e-26,\n",
       "        -2.51991644e-25, -2.51811152e-25, -2.53752161e-25, -7.90595256e-26,\n",
       "        -8.44724245e-26, -8.10191038e-26, -2.53742120e-25, -7.97852375e-26,\n",
       "        -8.12914266e-26, -2.54147085e-25, -2.51797554e-25, -2.54148636e-25,\n",
       "        -2.54150709e-25, -2.52397452e-25, -2.53956251e-25, -2.54133300e-25,\n",
       "        -2.54139107e-25, -2.53553664e-25, -2.54329620e-25, -2.54333774e-25,\n",
       "        -2.52974547e-25, -2.51995647e-25, -2.52199391e-25, -2.52587936e-25,\n",
       "        -2.53948460e-25, -2.53170808e-25, -2.53365234e-25, -2.53178662e-25,\n",
       "        -2.53363315e-25, -2.54143023e-25, -2.53547687e-25, -2.53944667e-25,\n",
       "        -2.54143065e-25, -2.54343295e-25, -2.54339413e-25, -2.52395562e-25,\n",
       "        -2.52962960e-25, -2.53161045e-25, -2.53371215e-25, -2.52185772e-25,\n",
       "        -2.54337439e-25]))"
      ]
     },
     "execution_count": 25,
     "metadata": {},
     "output_type": "execute_result"
    }
   ],
   "source": [
    "model.coef_, model.intercept_"
   ]
  },
  {
   "cell_type": "code",
   "execution_count": 26,
   "id": "f129d346-3301-4178-a6dd-18227f87fc8a",
   "metadata": {
    "tags": []
   },
   "outputs": [
    {
     "data": {
      "text/html": [
       "<div>\n",
       "<style scoped>\n",
       "    .dataframe tbody tr th:only-of-type {\n",
       "        vertical-align: middle;\n",
       "    }\n",
       "\n",
       "    .dataframe tbody tr th {\n",
       "        vertical-align: top;\n",
       "    }\n",
       "\n",
       "    .dataframe thead th {\n",
       "        text-align: right;\n",
       "    }\n",
       "</style>\n",
       "<table border=\"1\" class=\"dataframe\">\n",
       "  <thead>\n",
       "    <tr style=\"text-align: right;\">\n",
       "      <th></th>\n",
       "      <th>_id</th>\n",
       "      <th>RN_INDI</th>\n",
       "      <th>BTH_YYYY</th>\n",
       "      <th>DTH_YYYYMM</th>\n",
       "      <th>COD1</th>\n",
       "      <th>COD2</th>\n",
       "      <th>EDC_ADD_RT</th>\n",
       "      <th>ED_RC_TOT_AMT</th>\n",
       "      <th>RN_KEY</th>\n",
       "      <th>RN_INST</th>\n",
       "      <th>...</th>\n",
       "      <th>OPRTN_YN</th>\n",
       "      <th>MDCARE_DD_CNT</th>\n",
       "      <th>VSHSP_DD_CNT</th>\n",
       "      <th>TOT_PRSC_DD_CNT</th>\n",
       "      <th>MCARE_RSLT_TYPE</th>\n",
       "      <th>EDC_SBA</th>\n",
       "      <th>EDC_INSUR_BRDN_AMT</th>\n",
       "      <th>STD_YYYY</th>\n",
       "      <th>SICK_SYM1_3</th>\n",
       "      <th>SICK_SYM1_3_target</th>\n",
       "    </tr>\n",
       "  </thead>\n",
       "  <tbody>\n",
       "    <tr>\n",
       "      <th>14</th>\n",
       "      <td>64e6c89b19427f4de4457d69</td>\n",
       "      <td>294364</td>\n",
       "      <td>1921LE</td>\n",
       "      <td>200707.0</td>\n",
       "      <td>T08-T14</td>\n",
       "      <td>W00-W19</td>\n",
       "      <td>0.15</td>\n",
       "      <td>43430</td>\n",
       "      <td>2002100384129</td>\n",
       "      <td>44102</td>\n",
       "      <td>...</td>\n",
       "      <td>0</td>\n",
       "      <td>5</td>\n",
       "      <td>5</td>\n",
       "      <td>5</td>\n",
       "      <td>5.0</td>\n",
       "      <td>15000</td>\n",
       "      <td>28430</td>\n",
       "      <td>2002</td>\n",
       "      <td>J30</td>\n",
       "      <td>3</td>\n",
       "    </tr>\n",
       "    <tr>\n",
       "      <th>15</th>\n",
       "      <td>64e6c89b19427f4de4457d6a</td>\n",
       "      <td>294364</td>\n",
       "      <td>1921LE</td>\n",
       "      <td>200707.0</td>\n",
       "      <td>T08-T14</td>\n",
       "      <td>W00-W19</td>\n",
       "      <td>0.15</td>\n",
       "      <td>9950</td>\n",
       "      <td>2003110549428</td>\n",
       "      <td>102006</td>\n",
       "      <td>...</td>\n",
       "      <td>0</td>\n",
       "      <td>1</td>\n",
       "      <td>1</td>\n",
       "      <td>0</td>\n",
       "      <td>5.0</td>\n",
       "      <td>3000</td>\n",
       "      <td>6950</td>\n",
       "      <td>2003</td>\n",
       "      <td>J30</td>\n",
       "      <td>3</td>\n",
       "    </tr>\n",
       "    <tr>\n",
       "      <th>17</th>\n",
       "      <td>64e6c89b19427f4de4457d6c</td>\n",
       "      <td>294364</td>\n",
       "      <td>1921LE</td>\n",
       "      <td>200707.0</td>\n",
       "      <td>T08-T14</td>\n",
       "      <td>W00-W19</td>\n",
       "      <td>0.15</td>\n",
       "      <td>10800</td>\n",
       "      <td>2003060840563</td>\n",
       "      <td>79165</td>\n",
       "      <td>...</td>\n",
       "      <td>0</td>\n",
       "      <td>1</td>\n",
       "      <td>1</td>\n",
       "      <td>2</td>\n",
       "      <td>5.0</td>\n",
       "      <td>3000</td>\n",
       "      <td>7800</td>\n",
       "      <td>2003</td>\n",
       "      <td>R50</td>\n",
       "      <td>26</td>\n",
       "    </tr>\n",
       "    <tr>\n",
       "      <th>18</th>\n",
       "      <td>64e6c89b19427f4de4457d6d</td>\n",
       "      <td>294364</td>\n",
       "      <td>1921LE</td>\n",
       "      <td>200707.0</td>\n",
       "      <td>T08-T14</td>\n",
       "      <td>W00-W19</td>\n",
       "      <td>0.15</td>\n",
       "      <td>14240</td>\n",
       "      <td>2003101046628</td>\n",
       "      <td>102006</td>\n",
       "      <td>...</td>\n",
       "      <td>0</td>\n",
       "      <td>2</td>\n",
       "      <td>2</td>\n",
       "      <td>4</td>\n",
       "      <td>5.0</td>\n",
       "      <td>6000</td>\n",
       "      <td>8240</td>\n",
       "      <td>2003</td>\n",
       "      <td>J30</td>\n",
       "      <td>3</td>\n",
       "    </tr>\n",
       "    <tr>\n",
       "      <th>19</th>\n",
       "      <td>64e6c89b19427f4de4457d6e</td>\n",
       "      <td>294364</td>\n",
       "      <td>1921LE</td>\n",
       "      <td>200707.0</td>\n",
       "      <td>T08-T14</td>\n",
       "      <td>W00-W19</td>\n",
       "      <td>0.15</td>\n",
       "      <td>14240</td>\n",
       "      <td>2003050594728</td>\n",
       "      <td>44102</td>\n",
       "      <td>...</td>\n",
       "      <td>0</td>\n",
       "      <td>2</td>\n",
       "      <td>2</td>\n",
       "      <td>5</td>\n",
       "      <td>5.0</td>\n",
       "      <td>6000</td>\n",
       "      <td>8240</td>\n",
       "      <td>2003</td>\n",
       "      <td>R04</td>\n",
       "      <td>46</td>\n",
       "    </tr>\n",
       "  </tbody>\n",
       "</table>\n",
       "<p>5 rows × 25 columns</p>\n",
       "</div>"
      ],
      "text/plain": [
       "                         _id  RN_INDI BTH_YYYY  DTH_YYYYMM     COD1     COD2  \\\n",
       "14  64e6c89b19427f4de4457d69   294364   1921LE    200707.0  T08-T14  W00-W19   \n",
       "15  64e6c89b19427f4de4457d6a   294364   1921LE    200707.0  T08-T14  W00-W19   \n",
       "17  64e6c89b19427f4de4457d6c   294364   1921LE    200707.0  T08-T14  W00-W19   \n",
       "18  64e6c89b19427f4de4457d6d   294364   1921LE    200707.0  T08-T14  W00-W19   \n",
       "19  64e6c89b19427f4de4457d6e   294364   1921LE    200707.0  T08-T14  W00-W19   \n",
       "\n",
       "    EDC_ADD_RT  ED_RC_TOT_AMT         RN_KEY  RN_INST  ...  OPRTN_YN  \\\n",
       "14        0.15          43430  2002100384129    44102  ...         0   \n",
       "15        0.15           9950  2003110549428   102006  ...         0   \n",
       "17        0.15          10800  2003060840563    79165  ...         0   \n",
       "18        0.15          14240  2003101046628   102006  ...         0   \n",
       "19        0.15          14240  2003050594728    44102  ...         0   \n",
       "\n",
       "    MDCARE_DD_CNT  VSHSP_DD_CNT TOT_PRSC_DD_CNT MCARE_RSLT_TYPE  EDC_SBA  \\\n",
       "14              5             5               5             5.0    15000   \n",
       "15              1             1               0             5.0     3000   \n",
       "17              1             1               2             5.0     3000   \n",
       "18              2             2               4             5.0     6000   \n",
       "19              2             2               5             5.0     6000   \n",
       "\n",
       "    EDC_INSUR_BRDN_AMT  STD_YYYY  SICK_SYM1_3  SICK_SYM1_3_target  \n",
       "14               28430      2002          J30                   3  \n",
       "15                6950      2003          J30                   3  \n",
       "17                7800      2003          R50                  26  \n",
       "18                8240      2003          J30                   3  \n",
       "19                8240      2003          R04                  46  \n",
       "\n",
       "[5 rows x 25 columns]"
      ]
     },
     "execution_count": 26,
     "metadata": {},
     "output_type": "execute_result"
    }
   ],
   "source": [
    "# 예측\n",
    "df_BND_M20_dropna[10:15]"
   ]
  },
  {
   "cell_type": "code",
   "execution_count": 27,
   "id": "d31e863e-1afb-431d-a510-767bbfd3311f",
   "metadata": {
    "tags": []
   },
   "outputs": [
    {
     "data": {
      "text/plain": [
       "array([0, 0, 0, 0, 0], dtype=int64)"
      ]
     },
     "execution_count": 27,
     "metadata": {},
     "output_type": "execute_result"
    }
   ],
   "source": [
    "model.predict(features_train[10:15])"
   ]
  },
  {
   "cell_type": "code",
   "execution_count": 28,
   "id": "b6a7dd2a-b283-456f-8c99-b3338bdf942c",
   "metadata": {
    "collapsed": true,
    "jupyter": {
     "outputs_hidden": true
    },
    "tags": []
   },
   "outputs": [
    {
     "data": {
      "text/plain": [
       "array([[0.08550006, 0.07914413, 0.04840851, 0.04674136, 0.03869268,\n",
       "        0.04514661, 0.04191228, 0.02899095, 0.02093512, 0.02253774,\n",
       "        0.01775168, 0.02090316, 0.01289656, 0.01614805, 0.01125206,\n",
       "        0.01290218, 0.01447042, 0.01288935, 0.01611745, 0.00965238,\n",
       "        0.01125532, 0.01127702, 0.01450473, 0.0096556 , 0.00802399,\n",
       "        0.00805601, 0.00481467, 0.0080305 , 0.0096486 , 0.00803605,\n",
       "        0.00805512, 0.00643442, 0.00644001, 0.00645043, 0.00644881,\n",
       "        0.0080345 , 0.00481154, 0.0048299 , 0.00483369, 0.00482182,\n",
       "        0.00641594, 0.00803849, 0.008032  , 0.00321916, 0.0064191 ,\n",
       "        0.0048258 , 0.00642798, 0.00481142, 0.00481214, 0.00482749,\n",
       "        0.00483547, 0.00322233, 0.00482504, 0.00642962, 0.00641511,\n",
       "        0.0048107 , 0.00482977, 0.00160866, 0.00320539, 0.00160035,\n",
       "        0.00482828, 0.00482266, 0.00480744, 0.0016079 , 0.00481224,\n",
       "        0.00321346, 0.00320289, 0.00321265, 0.00321582, 0.00481699,\n",
       "        0.00321186, 0.0032208 , 0.00160561, 0.00320451, 0.00321673,\n",
       "        0.00322239, 0.00321585, 0.00321667, 0.00320854, 0.00320617,\n",
       "        0.00160033, 0.00159963, 0.00160713, 0.00320461, 0.00322228,\n",
       "        0.00321101, 0.00160709, 0.00320698, 0.0032119 , 0.00160866,\n",
       "        0.00159958, 0.00160866, 0.00160867, 0.0016019 , 0.00160792,\n",
       "        0.0016086 , 0.00160863, 0.00160636, 0.00160936, 0.00160938,\n",
       "        0.00160413, 0.00160034, 0.00160113, 0.00160263, 0.00160789,\n",
       "        0.00160488, 0.00160564, 0.00160491, 0.00160563, 0.00160864,\n",
       "        0.00160634, 0.00160787, 0.00160864, 0.00160941, 0.0016094 ,\n",
       "        0.00160189, 0.00160408, 0.00160485, 0.00160566, 0.00160108,\n",
       "        0.00160939],\n",
       "       [0.08508299, 0.0787762 , 0.04825416, 0.04659719, 0.03859508,\n",
       "        0.04501202, 0.04179661, 0.02894273, 0.0209206 , 0.02251715,\n",
       "        0.0177481 , 0.02088876, 0.01290625, 0.01614935, 0.01126509,\n",
       "        0.01291186, 0.01447632, 0.01289906, 0.01611884, 0.00966798,\n",
       "        0.01126835, 0.01129001, 0.01451054, 0.0096712 , 0.00804139,\n",
       "        0.00807338, 0.00483246, 0.0080479 , 0.00966421, 0.00805344,\n",
       "        0.0080725 , 0.00645262, 0.00645821, 0.00646863, 0.00646701,\n",
       "        0.00805189, 0.00482933, 0.00484771, 0.0048515 , 0.00483962,\n",
       "        0.00643414, 0.00805588, 0.00804939, 0.00323494, 0.0064373 ,\n",
       "        0.0048436 , 0.00644619, 0.00482921, 0.00482994, 0.00484529,\n",
       "        0.00485328, 0.00323811, 0.00484285, 0.00644782, 0.00643331,\n",
       "        0.00482849, 0.00484757, 0.0016199 , 0.00322114, 0.00161155,\n",
       "        0.00484609, 0.00484047, 0.00482523, 0.00161913, 0.00483003,\n",
       "        0.00322923, 0.00321864, 0.00322841, 0.00323159, 0.00483479,\n",
       "        0.00322763, 0.00323659, 0.00161683, 0.00322027, 0.00323251,\n",
       "        0.00323817, 0.00323162, 0.00323245, 0.0032243 , 0.00322192,\n",
       "        0.00161153, 0.00161083, 0.00161836, 0.00322036, 0.00323807,\n",
       "        0.00322678, 0.00161832, 0.00322274, 0.00322767, 0.00161989,\n",
       "        0.00161077, 0.0016199 , 0.0016199 , 0.0016131 , 0.00161915,\n",
       "        0.00161984, 0.00161986, 0.00161759, 0.0016206 , 0.00162061,\n",
       "        0.00161534, 0.00161154, 0.00161233, 0.00161384, 0.00161912,\n",
       "        0.0016161 , 0.00161686, 0.00161613, 0.00161685, 0.00161987,\n",
       "        0.00161756, 0.0016191 , 0.00161987, 0.00162065, 0.00162064,\n",
       "        0.00161309, 0.0016153 , 0.00161606, 0.00161688, 0.00161228,\n",
       "        0.00162063],\n",
       "       [0.08494488, 0.07865434, 0.04820294, 0.04654935, 0.03856266,\n",
       "        0.04496735, 0.04175819, 0.02892667, 0.02091573, 0.02251027,\n",
       "        0.01774686, 0.02088393, 0.01290943, 0.01614974, 0.01126939,\n",
       "        0.01291503, 0.01447824, 0.01290224, 0.01611926, 0.00967314,\n",
       "        0.01127264, 0.01129429, 0.01451243, 0.00967635, 0.00804715,\n",
       "        0.00807913, 0.00483836, 0.00805366, 0.00966937, 0.0080592 ,\n",
       "        0.00807825, 0.00645865, 0.00646424, 0.00647466, 0.00647304,\n",
       "        0.00805764, 0.00483523, 0.00485362, 0.00485741, 0.00484553,\n",
       "        0.00644017, 0.00806163, 0.00805514, 0.00324018, 0.00644333,\n",
       "        0.00484951, 0.00645222, 0.00483511, 0.00483584, 0.0048512 ,\n",
       "        0.00485918, 0.00324336, 0.00484875, 0.00645385, 0.00643934,\n",
       "        0.00483439, 0.00485348, 0.00162364, 0.00322638, 0.00161528,\n",
       "        0.004852  , 0.00484637, 0.00483113, 0.00162286, 0.00483594,\n",
       "        0.00323447, 0.00322387, 0.00323365, 0.00323683, 0.00484069,\n",
       "        0.00323287, 0.00324183, 0.00162056, 0.0032255 , 0.00323775,\n",
       "        0.00324342, 0.00323686, 0.00323769, 0.00322954, 0.00322715,\n",
       "        0.00161525, 0.00161455, 0.00162209, 0.0032256 , 0.00324331,\n",
       "        0.00323201, 0.00162206, 0.00322797, 0.00323291, 0.00162363,\n",
       "        0.0016145 , 0.00162363, 0.00162364, 0.00161683, 0.00162289,\n",
       "        0.00162357, 0.0016236 , 0.00162132, 0.00162434, 0.00162435,\n",
       "        0.00161907, 0.00161527, 0.00161606, 0.00161757, 0.00162286,\n",
       "        0.00161984, 0.00162059, 0.00161987, 0.00162058, 0.00162361,\n",
       "        0.0016213 , 0.00162284, 0.00162361, 0.00162439, 0.00162438,\n",
       "        0.00161682, 0.00161903, 0.0016198 , 0.00162061, 0.00161601,\n",
       "        0.00162437],\n",
       "       [0.0857103 , 0.07932954, 0.04848613, 0.04681385, 0.0387417 ,\n",
       "        0.04521427, 0.04197042, 0.0290151 , 0.02094233, 0.02254799,\n",
       "        0.0177534 , 0.02091031, 0.01289163, 0.01614732, 0.01124545,\n",
       "        0.01289725, 0.01446739, 0.01288441, 0.01611668, 0.00964449,\n",
       "        0.01124871, 0.01127044, 0.01450174, 0.00964771, 0.00801521,\n",
       "        0.00804724, 0.00480571, 0.00802173, 0.00964071, 0.00802728,\n",
       "        0.00804636, 0.00642525, 0.00643084, 0.00644126, 0.00643965,\n",
       "        0.00802572, 0.00480258, 0.00482094, 0.00482473, 0.00481286,\n",
       "        0.00640676, 0.00802971, 0.00802322, 0.00321123, 0.00640993,\n",
       "        0.00481684, 0.00641881, 0.00480246, 0.00480319, 0.00481853,\n",
       "        0.0048265 , 0.0032144 , 0.00481609, 0.00642045, 0.00640594,\n",
       "        0.00480175, 0.00482081, 0.00160303, 0.00319748, 0.00159474,\n",
       "        0.00481932, 0.00481371, 0.00479849, 0.00160227, 0.00480329,\n",
       "        0.00320554, 0.00319498, 0.00320473, 0.00320789, 0.00480803,\n",
       "        0.00320394, 0.00321287, 0.00159998, 0.0031966 , 0.00320881,\n",
       "        0.00321446, 0.00320793, 0.00320875, 0.00320063, 0.00319825,\n",
       "        0.00159471, 0.00159402, 0.0016015 , 0.0031967 , 0.00321435,\n",
       "        0.00320309, 0.00160146, 0.00319907, 0.00320398, 0.00160303,\n",
       "        0.00159396, 0.00160303, 0.00160304, 0.00159628, 0.00160229,\n",
       "        0.00160297, 0.00160299, 0.00160074, 0.00160373, 0.00160375,\n",
       "        0.0015985 , 0.00159473, 0.00159551, 0.00159701, 0.00160226,\n",
       "        0.00159926, 0.00160001, 0.00159929, 0.0016    , 0.00160301,\n",
       "        0.00160071, 0.00160225, 0.00160301, 0.00160378, 0.00160377,\n",
       "        0.00159627, 0.00159846, 0.00159922, 0.00160003, 0.00159546,\n",
       "        0.00160376],\n",
       "       [0.08543258, 0.0790846 , 0.04838356, 0.04671806, 0.03867692,\n",
       "        0.04512486, 0.0418936 , 0.02898317, 0.02093279, 0.02253443,\n",
       "        0.01775112, 0.02090085, 0.01289814, 0.01614828, 0.01125417,\n",
       "        0.01290375, 0.01447139, 0.01289093, 0.01611769, 0.00965491,\n",
       "        0.01125743, 0.01127913, 0.01450568, 0.00965813, 0.00802681,\n",
       "        0.00805882, 0.00481754, 0.00803332, 0.00965113, 0.00803887,\n",
       "        0.00805794, 0.00643736, 0.00644295, 0.00645337, 0.00645176,\n",
       "        0.00803731, 0.00481441, 0.00483278, 0.00483657, 0.0048247 ,\n",
       "        0.00641888, 0.0080413 , 0.00803481, 0.00322171, 0.00642204,\n",
       "        0.00482868, 0.00643093, 0.00481429, 0.00481502, 0.00483036,\n",
       "        0.00483834, 0.00322488, 0.00482792, 0.00643256, 0.00641805,\n",
       "        0.00481357, 0.00483265, 0.00161048, 0.00320793, 0.00160216,\n",
       "        0.00483116, 0.00482554, 0.00481032, 0.00160971, 0.00481511,\n",
       "        0.00321601, 0.00320543, 0.00321519, 0.00321836, 0.00481986,\n",
       "        0.00321441, 0.00322335, 0.00160742, 0.00320706, 0.00321928,\n",
       "        0.00322494, 0.0032184 , 0.00321922, 0.00321109, 0.00320871,\n",
       "        0.00160213, 0.00160144, 0.00160894, 0.00320716, 0.00322483,\n",
       "        0.00321356, 0.0016089 , 0.00320953, 0.00321445, 0.00161047,\n",
       "        0.00160138, 0.00161047, 0.00161048, 0.0016037 , 0.00160973,\n",
       "        0.00161042, 0.00161044, 0.00160817, 0.00161117, 0.00161119,\n",
       "        0.00160594, 0.00160215, 0.00160294, 0.00160444, 0.0016097 ,\n",
       "        0.00160669, 0.00160745, 0.00160672, 0.00160744, 0.00161045,\n",
       "        0.00160815, 0.00160969, 0.00161045, 0.00161123, 0.00161121,\n",
       "        0.0016037 , 0.00160589, 0.00160666, 0.00160747, 0.00160288,\n",
       "        0.0016112 ]])"
      ]
     },
     "execution_count": 28,
     "metadata": {},
     "output_type": "execute_result"
    }
   ],
   "source": [
    "model.predict_proba(features_train[10:15])"
   ]
  },
  {
   "cell_type": "code",
   "execution_count": 29,
   "id": "6bfa7cc8-d057-4fbf-8d21-b6e4b15f142f",
   "metadata": {
    "tags": []
   },
   "outputs": [
    {
     "data": {
      "text/plain": [
       "(621,)"
      ]
     },
     "execution_count": 29,
     "metadata": {},
     "output_type": "execute_result"
    }
   ],
   "source": [
    "# 평가\n",
    "target_train_predict = model.predict(features_train)\n",
    "target_train_predict.shape  # target_train.shape과 동일"
   ]
  },
  {
   "cell_type": "code",
   "execution_count": 30,
   "id": "42b4c29f-c8f0-4c7e-82aa-2e4494f1f4f5",
   "metadata": {
    "tags": []
   },
   "outputs": [],
   "source": [
    "from sklearn.metrics import accuracy_score"
   ]
  },
  {
   "cell_type": "code",
   "execution_count": 31,
   "id": "8c63b922-5a9f-44e1-a872-843163b563fb",
   "metadata": {
    "tags": []
   },
   "outputs": [
    {
     "data": {
      "text/plain": [
       "0.0853462157809984"
      ]
     },
     "execution_count": 31,
     "metadata": {},
     "output_type": "execute_result"
    }
   ],
   "source": [
    "# 정확도 평가 (실제값, 예측값을 넣으면 정확도가 평가된다)\n",
    "accuracy_score(target_train, target_train_predict)  # 교내 시험"
   ]
  },
  {
   "cell_type": "code",
   "execution_count": 32,
   "id": "96d119e1-c082-4035-8cf8-0f21b53fe994",
   "metadata": {
    "tags": []
   },
   "outputs": [
    {
     "data": {
      "text/plain": [
       "(208,)"
      ]
     },
     "execution_count": 32,
     "metadata": {},
     "output_type": "execute_result"
    }
   ],
   "source": [
    "target_test_predict = model.predict(features_test)\n",
    "target_test_predict.shape   # target_test.shape과 동일"
   ]
  },
  {
   "cell_type": "code",
   "execution_count": 33,
   "id": "71556fc7-34e3-477e-812b-ba63a9024421",
   "metadata": {
    "tags": []
   },
   "outputs": [
    {
     "data": {
      "text/plain": [
       "0.07211538461538461"
      ]
     },
     "execution_count": 33,
     "metadata": {},
     "output_type": "execute_result"
    }
   ],
   "source": [
    "accuracy_score(target_test, target_test_predict) "
   ]
  },
  {
   "cell_type": "code",
   "execution_count": 34,
   "id": "a5aea94b-caa3-4b39-9f6b-bfde218d818a",
   "metadata": {
    "tags": []
   },
   "outputs": [],
   "source": [
    "# 성능지표\n",
    "from sklearn.metrics import classification_report"
   ]
  },
  {
   "cell_type": "code",
   "execution_count": 35,
   "id": "3115b3bb-dbc0-488a-b209-02df52c83999",
   "metadata": {
    "collapsed": true,
    "jupyter": {
     "outputs_hidden": true
    },
    "tags": []
   },
   "outputs": [
    {
     "name": "stdout",
     "output_type": "stream",
     "text": [
      "              precision    recall  f1-score   support\n",
      "\n",
      "           0       0.09      1.00      0.16        53\n",
      "           1       0.00      0.00      0.00        49\n",
      "           2       0.00      0.00      0.00        30\n",
      "           3       0.00      0.00      0.00        29\n",
      "           4       0.00      0.00      0.00        24\n",
      "           5       0.00      0.00      0.00        28\n",
      "           6       0.00      0.00      0.00        26\n",
      "           7       0.00      0.00      0.00        18\n",
      "           8       0.00      0.00      0.00        13\n",
      "           9       0.00      0.00      0.00        14\n",
      "          10       0.00      0.00      0.00        11\n",
      "          11       0.00      0.00      0.00        13\n",
      "          12       0.00      0.00      0.00         8\n",
      "          13       0.00      0.00      0.00        10\n",
      "          14       0.00      0.00      0.00         7\n",
      "          15       0.00      0.00      0.00         8\n",
      "          16       0.00      0.00      0.00         9\n",
      "          17       0.00      0.00      0.00         8\n",
      "          18       0.00      0.00      0.00        10\n",
      "          19       0.00      0.00      0.00         6\n",
      "          20       0.00      0.00      0.00         7\n",
      "          21       0.00      0.00      0.00         7\n",
      "          22       0.00      0.00      0.00         9\n",
      "          23       0.00      0.00      0.00         6\n",
      "          24       0.00      0.00      0.00         5\n",
      "          25       0.00      0.00      0.00         5\n",
      "          26       0.00      0.00      0.00         3\n",
      "          27       0.00      0.00      0.00         5\n",
      "          28       0.00      0.00      0.00         6\n",
      "          29       0.00      0.00      0.00         5\n",
      "          30       0.00      0.00      0.00         5\n",
      "          31       0.00      0.00      0.00         4\n",
      "          32       0.00      0.00      0.00         4\n",
      "          33       0.00      0.00      0.00         4\n",
      "          34       0.00      0.00      0.00         4\n",
      "          35       0.00      0.00      0.00         5\n",
      "          36       0.00      0.00      0.00         3\n",
      "          37       0.00      0.00      0.00         3\n",
      "          38       0.00      0.00      0.00         3\n",
      "          39       0.00      0.00      0.00         3\n",
      "          40       0.00      0.00      0.00         4\n",
      "          41       0.00      0.00      0.00         5\n",
      "          42       0.00      0.00      0.00         5\n",
      "          43       0.00      0.00      0.00         2\n",
      "          44       0.00      0.00      0.00         4\n",
      "          45       0.00      0.00      0.00         3\n",
      "          46       0.00      0.00      0.00         4\n",
      "          47       0.00      0.00      0.00         3\n",
      "          48       0.00      0.00      0.00         3\n",
      "          49       0.00      0.00      0.00         3\n",
      "          50       0.00      0.00      0.00         3\n",
      "          51       0.00      0.00      0.00         2\n",
      "          52       0.00      0.00      0.00         3\n",
      "          53       0.00      0.00      0.00         4\n",
      "          54       0.00      0.00      0.00         4\n",
      "          55       0.00      0.00      0.00         3\n",
      "          56       0.00      0.00      0.00         3\n",
      "          58       0.00      0.00      0.00         1\n",
      "          59       0.00      0.00      0.00         2\n",
      "          60       0.00      0.00      0.00         1\n",
      "          61       0.00      0.00      0.00         3\n",
      "          62       0.00      0.00      0.00         3\n",
      "          63       0.00      0.00      0.00         3\n",
      "          64       0.00      0.00      0.00         1\n",
      "          65       0.00      0.00      0.00         3\n",
      "          66       0.00      0.00      0.00         2\n",
      "          67       0.00      0.00      0.00         2\n",
      "          68       0.00      0.00      0.00         2\n",
      "          69       0.00      0.00      0.00         2\n",
      "          70       0.00      0.00      0.00         3\n",
      "          71       0.00      0.00      0.00         2\n",
      "          72       0.00      0.00      0.00         2\n",
      "          73       0.00      0.00      0.00         1\n",
      "          75       0.00      0.00      0.00         2\n",
      "          76       0.00      0.00      0.00         2\n",
      "          77       0.00      0.00      0.00         2\n",
      "          78       0.00      0.00      0.00         2\n",
      "          79       0.00      0.00      0.00         2\n",
      "          80       0.00      0.00      0.00         2\n",
      "          81       0.00      0.00      0.00         2\n",
      "          82       0.00      0.00      0.00         1\n",
      "          83       0.00      0.00      0.00         1\n",
      "          84       0.00      0.00      0.00         1\n",
      "          87       0.00      0.00      0.00         2\n",
      "          88       0.00      0.00      0.00         2\n",
      "          89       0.00      0.00      0.00         2\n",
      "          90       0.00      0.00      0.00         1\n",
      "          91       0.00      0.00      0.00         2\n",
      "          92       0.00      0.00      0.00         2\n",
      "          94       0.00      0.00      0.00         1\n",
      "          95       0.00      0.00      0.00         1\n",
      "          97       0.00      0.00      0.00         1\n",
      "          98       0.00      0.00      0.00         1\n",
      "          99       0.00      0.00      0.00         1\n",
      "         101       0.00      0.00      0.00         1\n",
      "         102       0.00      0.00      0.00         1\n",
      "         103       0.00      0.00      0.00         1\n",
      "         104       0.00      0.00      0.00         1\n",
      "         105       0.00      0.00      0.00         1\n",
      "         106       0.00      0.00      0.00         1\n",
      "         107       0.00      0.00      0.00         1\n",
      "         108       0.00      0.00      0.00         1\n",
      "         110       0.00      0.00      0.00         1\n",
      "         111       0.00      0.00      0.00         1\n",
      "         112       0.00      0.00      0.00         1\n",
      "         114       0.00      0.00      0.00         1\n",
      "         115       0.00      0.00      0.00         1\n",
      "         116       0.00      0.00      0.00         1\n",
      "         119       0.00      0.00      0.00         1\n",
      "         120       0.00      0.00      0.00         1\n",
      "         123       0.00      0.00      0.00         1\n",
      "         125       0.00      0.00      0.00         1\n",
      "         130       0.00      0.00      0.00         1\n",
      "         131       0.00      0.00      0.00         1\n",
      "         132       0.00      0.00      0.00         1\n",
      "         133       0.00      0.00      0.00         1\n",
      "         136       0.00      0.00      0.00         1\n",
      "         137       0.00      0.00      0.00         1\n",
      "         138       0.00      0.00      0.00         1\n",
      "         139       0.00      0.00      0.00         1\n",
      "         140       0.00      0.00      0.00         1\n",
      "\n",
      "    accuracy                           0.09       621\n",
      "   macro avg       0.00      0.01      0.00       621\n",
      "weighted avg       0.01      0.09      0.01       621\n",
      "\n"
     ]
    },
    {
     "name": "stderr",
     "output_type": "stream",
     "text": [
      "C:\\Users\\01-02\\anaconda3\\Lib\\site-packages\\sklearn\\metrics\\_classification.py:1344: UndefinedMetricWarning: Precision and F-score are ill-defined and being set to 0.0 in labels with no predicted samples. Use `zero_division` parameter to control this behavior.\n",
      "  _warn_prf(average, modifier, msg_start, len(result))\n",
      "C:\\Users\\01-02\\anaconda3\\Lib\\site-packages\\sklearn\\metrics\\_classification.py:1344: UndefinedMetricWarning: Precision and F-score are ill-defined and being set to 0.0 in labels with no predicted samples. Use `zero_division` parameter to control this behavior.\n",
      "  _warn_prf(average, modifier, msg_start, len(result))\n",
      "C:\\Users\\01-02\\anaconda3\\Lib\\site-packages\\sklearn\\metrics\\_classification.py:1344: UndefinedMetricWarning: Precision and F-score are ill-defined and being set to 0.0 in labels with no predicted samples. Use `zero_division` parameter to control this behavior.\n",
      "  _warn_prf(average, modifier, msg_start, len(result))\n"
     ]
    }
   ],
   "source": [
    "print(classification_report(target_train, target_train_predict))"
   ]
  },
  {
   "cell_type": "code",
   "execution_count": 36,
   "id": "13ca98a1-8864-4541-a898-970f36abdef9",
   "metadata": {
    "collapsed": true,
    "jupyter": {
     "outputs_hidden": true
    },
    "tags": []
   },
   "outputs": [
    {
     "name": "stdout",
     "output_type": "stream",
     "text": [
      "              precision    recall  f1-score   support\n",
      "\n",
      "           0       0.07      1.00      0.13        15\n",
      "           1       0.00      0.00      0.00         7\n",
      "           2       0.00      0.00      0.00        20\n",
      "           3       0.00      0.00      0.00         6\n",
      "           4       0.00      0.00      0.00         8\n",
      "           5       0.00      0.00      0.00         4\n",
      "           6       0.00      0.00      0.00         4\n",
      "           7       0.00      0.00      0.00         6\n",
      "           8       0.00      0.00      0.00        10\n",
      "           9       0.00      0.00      0.00         5\n",
      "          10       0.00      0.00      0.00         5\n",
      "          11       0.00      0.00      0.00         2\n",
      "          12       0.00      0.00      0.00         4\n",
      "          13       0.00      0.00      0.00         2\n",
      "          14       0.00      0.00      0.00         4\n",
      "          15       0.00      0.00      0.00         3\n",
      "          16       0.00      0.00      0.00         2\n",
      "          17       0.00      0.00      0.00         2\n",
      "          19       0.00      0.00      0.00         3\n",
      "          20       0.00      0.00      0.00         2\n",
      "          21       0.00      0.00      0.00         2\n",
      "          23       0.00      0.00      0.00         3\n",
      "          24       0.00      0.00      0.00         3\n",
      "          25       0.00      0.00      0.00         3\n",
      "          26       0.00      0.00      0.00         4\n",
      "          27       0.00      0.00      0.00         2\n",
      "          29       0.00      0.00      0.00         1\n",
      "          30       0.00      0.00      0.00         1\n",
      "          31       0.00      0.00      0.00         2\n",
      "          32       0.00      0.00      0.00         2\n",
      "          33       0.00      0.00      0.00         2\n",
      "          34       0.00      0.00      0.00         2\n",
      "          35       0.00      0.00      0.00         1\n",
      "          36       0.00      0.00      0.00         2\n",
      "          37       0.00      0.00      0.00         2\n",
      "          38       0.00      0.00      0.00         2\n",
      "          39       0.00      0.00      0.00         2\n",
      "          40       0.00      0.00      0.00         1\n",
      "          43       0.00      0.00      0.00         3\n",
      "          44       0.00      0.00      0.00         1\n",
      "          45       0.00      0.00      0.00         2\n",
      "          47       0.00      0.00      0.00         1\n",
      "          48       0.00      0.00      0.00         1\n",
      "          49       0.00      0.00      0.00         1\n",
      "          50       0.00      0.00      0.00         1\n",
      "          51       0.00      0.00      0.00         2\n",
      "          52       0.00      0.00      0.00         1\n",
      "          55       0.00      0.00      0.00         1\n",
      "          57       0.00      0.00      0.00         3\n",
      "          58       0.00      0.00      0.00         2\n",
      "          59       0.00      0.00      0.00         1\n",
      "          60       0.00      0.00      0.00         2\n",
      "          64       0.00      0.00      0.00         2\n",
      "          66       0.00      0.00      0.00         1\n",
      "          67       0.00      0.00      0.00         1\n",
      "          68       0.00      0.00      0.00         1\n",
      "          69       0.00      0.00      0.00         1\n",
      "          71       0.00      0.00      0.00         1\n",
      "          72       0.00      0.00      0.00         1\n",
      "          73       0.00      0.00      0.00         1\n",
      "          74       0.00      0.00      0.00         2\n",
      "          82       0.00      0.00      0.00         1\n",
      "          83       0.00      0.00      0.00         1\n",
      "          84       0.00      0.00      0.00         1\n",
      "          85       0.00      0.00      0.00         2\n",
      "          86       0.00      0.00      0.00         2\n",
      "          90       0.00      0.00      0.00         1\n",
      "          93       0.00      0.00      0.00         1\n",
      "          96       0.00      0.00      0.00         1\n",
      "         100       0.00      0.00      0.00         1\n",
      "         109       0.00      0.00      0.00         1\n",
      "         113       0.00      0.00      0.00         1\n",
      "         117       0.00      0.00      0.00         1\n",
      "         118       0.00      0.00      0.00         1\n",
      "         121       0.00      0.00      0.00         1\n",
      "         122       0.00      0.00      0.00         1\n",
      "         124       0.00      0.00      0.00         1\n",
      "         126       0.00      0.00      0.00         1\n",
      "         127       0.00      0.00      0.00         1\n",
      "         128       0.00      0.00      0.00         1\n",
      "         129       0.00      0.00      0.00         1\n",
      "         134       0.00      0.00      0.00         1\n",
      "         135       0.00      0.00      0.00         1\n",
      "\n",
      "    accuracy                           0.07       208\n",
      "   macro avg       0.00      0.01      0.00       208\n",
      "weighted avg       0.01      0.07      0.01       208\n",
      "\n"
     ]
    },
    {
     "name": "stderr",
     "output_type": "stream",
     "text": [
      "C:\\Users\\01-02\\anaconda3\\Lib\\site-packages\\sklearn\\metrics\\_classification.py:1344: UndefinedMetricWarning: Precision and F-score are ill-defined and being set to 0.0 in labels with no predicted samples. Use `zero_division` parameter to control this behavior.\n",
      "  _warn_prf(average, modifier, msg_start, len(result))\n",
      "C:\\Users\\01-02\\anaconda3\\Lib\\site-packages\\sklearn\\metrics\\_classification.py:1344: UndefinedMetricWarning: Precision and F-score are ill-defined and being set to 0.0 in labels with no predicted samples. Use `zero_division` parameter to control this behavior.\n",
      "  _warn_prf(average, modifier, msg_start, len(result))\n",
      "C:\\Users\\01-02\\anaconda3\\Lib\\site-packages\\sklearn\\metrics\\_classification.py:1344: UndefinedMetricWarning: Precision and F-score are ill-defined and being set to 0.0 in labels with no predicted samples. Use `zero_division` parameter to control this behavior.\n",
      "  _warn_prf(average, modifier, msg_start, len(result))\n"
     ]
    }
   ],
   "source": [
    "print(classification_report(target_test, target_test_predict))"
   ]
  },
  {
   "cell_type": "code",
   "execution_count": 37,
   "id": "ca7a05a7-369d-42ad-97b0-cf4e398a5adb",
   "metadata": {
    "tags": []
   },
   "outputs": [],
   "source": [
    "# 오차행렬\n",
    "from sklearn.metrics import confusion_matrix, precision_score, recall_score, f1_score"
   ]
  },
  {
   "cell_type": "code",
   "execution_count": 53,
   "id": "5bb676cc-d77f-47e7-bfec-5266e1657984",
   "metadata": {
    "tags": []
   },
   "outputs": [
    {
     "data": {
      "text/plain": [
       "array([[53,  0,  0, ...,  0,  0,  0],\n",
       "       [49,  0,  0, ...,  0,  0,  0],\n",
       "       [30,  0,  0, ...,  0,  0,  0],\n",
       "       ...,\n",
       "       [ 1,  0,  0, ...,  0,  0,  0],\n",
       "       [ 1,  0,  0, ...,  0,  0,  0],\n",
       "       [ 1,  0,  0, ...,  0,  0,  0]], dtype=int64)"
      ]
     },
     "execution_count": 53,
     "metadata": {},
     "output_type": "execute_result"
    }
   ],
   "source": [
    "confusion_matrix(target_train, target_train_predict)"
   ]
  },
  {
   "cell_type": "code",
   "execution_count": 64,
   "id": "fb93de28-e259-4a62-bc14-ed501dab766f",
   "metadata": {
    "tags": []
   },
   "outputs": [
    {
     "name": "stderr",
     "output_type": "stream",
     "text": [
      "C:\\Users\\01-02\\anaconda3\\Lib\\site-packages\\sklearn\\metrics\\_classification.py:1344: UndefinedMetricWarning: Precision is ill-defined and being set to 0.0 in labels with no predicted samples. Use `zero_division` parameter to control this behavior.\n",
      "  _warn_prf(average, modifier, msg_start, len(result))\n"
     ]
    },
    {
     "data": {
      "text/plain": [
       "0.000705340626289243"
      ]
     },
     "execution_count": 64,
     "metadata": {},
     "output_type": "execute_result"
    }
   ],
   "source": [
    "# precision_score(target_train, target_train_predict)\n",
    "precision_score(target_train, target_train_predict, average='macro')"
   ]
  },
  {
   "cell_type": "code",
   "execution_count": 65,
   "id": "32d4c579-ff0c-4709-9a7e-6d96e662b2c9",
   "metadata": {
    "tags": []
   },
   "outputs": [
    {
     "data": {
      "text/plain": [
       "0.008264462809917356"
      ]
     },
     "execution_count": 65,
     "metadata": {},
     "output_type": "execute_result"
    }
   ],
   "source": [
    "recall_score(target_train, target_train_predict, average='macro')"
   ]
  },
  {
   "cell_type": "code",
   "execution_count": 66,
   "id": "5b2c8655-a27e-41b3-9436-ef60d8954e85",
   "metadata": {
    "tags": []
   },
   "outputs": [
    {
     "data": {
      "text/plain": [
       "0.0012997523113519878"
      ]
     },
     "execution_count": 66,
     "metadata": {},
     "output_type": "execute_result"
    }
   ],
   "source": [
    "f1_score(target_train, target_train_predict, average='macro')"
   ]
  },
  {
   "cell_type": "markdown",
   "id": "a1e900ec-70b8-4417-8197-0b672fdea41a",
   "metadata": {},
   "source": [
    "- None: 클래스마다 개별적인 정밀도를 반환합니다.\n",
    "- 'micro': 전체 예측과 실제 레이블을 기반으로 정밀도를 계산합니다.\n",
    "- 'macro': 클래스별 정밀도를 계산하고 평균을 구합니다. 각 클래스는 동등한 가중치로 취급됩니다.- 단순평균(전체 평균)\n",
    "- 'weighted': 클래스별 정밀도를 계산하고 클래스별 샘플 수에 따라 가중 평균을 구합니다. - 가중평균"
   ]
  },
  {
   "cell_type": "code",
   "execution_count": null,
   "id": "b0817cc2-d381-4cc9-ae98-0adb0c80b87b",
   "metadata": {},
   "outputs": [],
   "source": []
  },
  {
   "cell_type": "code",
   "execution_count": null,
   "id": "62ae88b4-a7e1-45b2-bc44-1e268a11134f",
   "metadata": {},
   "outputs": [],
   "source": []
  }
 ],
 "metadata": {
  "kernelspec": {
   "display_name": "Python 3 (ipykernel)",
   "language": "python",
   "name": "python3"
  },
  "language_info": {
   "codemirror_mode": {
    "name": "ipython",
    "version": 3
   },
   "file_extension": ".py",
   "mimetype": "text/x-python",
   "name": "python",
   "nbconvert_exporter": "python",
   "pygments_lexer": "ipython3",
   "version": "3.11.3"
  }
 },
 "nbformat": 4,
 "nbformat_minor": 5
}
