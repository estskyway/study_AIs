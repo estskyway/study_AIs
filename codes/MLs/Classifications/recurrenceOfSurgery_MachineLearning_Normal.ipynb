{
 "cells": [
  {
   "cell_type": "markdown",
   "id": "b2d1d754-2cc2-4dab-a087-e3b49e61455c",
   "metadata": {
    "tags": []
   },
   "source": [
    "### from blog : https://blog.naver.com/data_station/222493270368\n",
    "- 의료 보조 서비스\n",
    "- 수식화(모델링) 단계\n",
    "- 어떤 대상이 이 서비스(모델)를 사용할 것인가?\n",
    "- 어떤 설명변수를 선택하는가\n",
    "- 의사를 대상으로 할 때\n",
    "- 환자를 대상으로 할 때"
   ]
  },
  {
   "cell_type": "markdown",
   "id": "0c921f7f-9e17-47c3-9365-15016037e8ee",
   "metadata": {},
   "source": [
    "#### EDA"
   ]
  },
  {
   "cell_type": "code",
   "execution_count": 1,
   "id": "46eb6d8d-50b0-46f4-9f65-6cc2a2b0beb0",
   "metadata": {
    "tags": []
   },
   "outputs": [
    {
     "name": "stdout",
     "output_type": "stream",
     "text": [
      "(1894, 52)\n"
     ]
    },
    {
     "data": {
      "text/html": [
       "<div>\n",
       "<style scoped>\n",
       "    .dataframe tbody tr th:only-of-type {\n",
       "        vertical-align: middle;\n",
       "    }\n",
       "\n",
       "    .dataframe tbody tr th {\n",
       "        vertical-align: top;\n",
       "    }\n",
       "\n",
       "    .dataframe thead th {\n",
       "        text-align: right;\n",
       "    }\n",
       "</style>\n",
       "<table border=\"1\" class=\"dataframe\">\n",
       "  <thead>\n",
       "    <tr style=\"text-align: right;\">\n",
       "      <th></th>\n",
       "      <th>Unnamed: 0</th>\n",
       "      <th>환자ID</th>\n",
       "      <th>Large Lymphocyte</th>\n",
       "      <th>Location of herniation</th>\n",
       "      <th>ODI</th>\n",
       "      <th>가족력</th>\n",
       "      <th>간질성폐질환</th>\n",
       "      <th>고혈압여부</th>\n",
       "      <th>과거수술횟수</th>\n",
       "      <th>당뇨여부</th>\n",
       "      <th>...</th>\n",
       "      <th>Modic change</th>\n",
       "      <th>PI</th>\n",
       "      <th>PT</th>\n",
       "      <th>Seg Angle(raw)</th>\n",
       "      <th>Vaccum disc</th>\n",
       "      <th>골밀도</th>\n",
       "      <th>디스크단면적</th>\n",
       "      <th>디스크위치</th>\n",
       "      <th>척추이동척도</th>\n",
       "      <th>척추전방위증</th>\n",
       "    </tr>\n",
       "  </thead>\n",
       "  <tbody>\n",
       "    <tr>\n",
       "      <th>0</th>\n",
       "      <td>0</td>\n",
       "      <td>1PT</td>\n",
       "      <td>22.8</td>\n",
       "      <td>3</td>\n",
       "      <td>51.0</td>\n",
       "      <td>0.0</td>\n",
       "      <td>0</td>\n",
       "      <td>0</td>\n",
       "      <td>0</td>\n",
       "      <td>0</td>\n",
       "      <td>...</td>\n",
       "      <td>3</td>\n",
       "      <td>51.6</td>\n",
       "      <td>36.6</td>\n",
       "      <td>14.4</td>\n",
       "      <td>0</td>\n",
       "      <td>-1.01</td>\n",
       "      <td>2048.5</td>\n",
       "      <td>4</td>\n",
       "      <td>Down</td>\n",
       "      <td>0</td>\n",
       "    </tr>\n",
       "    <tr>\n",
       "      <th>1</th>\n",
       "      <td>1</td>\n",
       "      <td>2PT</td>\n",
       "      <td>44.9</td>\n",
       "      <td>4</td>\n",
       "      <td>26.0</td>\n",
       "      <td>0.0</td>\n",
       "      <td>0</td>\n",
       "      <td>0</td>\n",
       "      <td>0</td>\n",
       "      <td>0</td>\n",
       "      <td>...</td>\n",
       "      <td>0</td>\n",
       "      <td>40.8</td>\n",
       "      <td>7.2</td>\n",
       "      <td>17.8</td>\n",
       "      <td>0</td>\n",
       "      <td>-1.14</td>\n",
       "      <td>1753.1</td>\n",
       "      <td>4</td>\n",
       "      <td>Up</td>\n",
       "      <td>0</td>\n",
       "    </tr>\n",
       "  </tbody>\n",
       "</table>\n",
       "<p>2 rows × 52 columns</p>\n",
       "</div>"
      ],
      "text/plain": [
       "   Unnamed: 0 환자ID  Large Lymphocyte  Location of herniation   ODI  가족력  \\\n",
       "0           0  1PT              22.8                       3  51.0  0.0   \n",
       "1           1  2PT              44.9                       4  26.0  0.0   \n",
       "\n",
       "   간질성폐질환  고혈압여부  과거수술횟수  당뇨여부  ...  Modic change    PI    PT  Seg Angle(raw)  \\\n",
       "0       0      0       0     0  ...             3  51.6  36.6            14.4   \n",
       "1       0      0       0     0  ...             0  40.8   7.2            17.8   \n",
       "\n",
       "   Vaccum disc   골밀도  디스크단면적  디스크위치  척추이동척도  척추전방위증  \n",
       "0            0 -1.01  2048.5      4    Down       0  \n",
       "1            0 -1.14  1753.1      4      Up       0  \n",
       "\n",
       "[2 rows x 52 columns]"
      ]
     },
     "execution_count": 1,
     "metadata": {},
     "output_type": "execute_result"
    }
   ],
   "source": [
    "import pandas as pd\n",
    "df1 = pd.read_csv('../../../datasets/recurrenceOfSurgery.csv')\n",
    "print(df1.shape)\n",
    "df1.head(2)"
   ]
  },
  {
   "cell_type": "code",
   "execution_count": 2,
   "id": "27b47e32-56a0-460e-b9cd-f65f1d9c81b8",
   "metadata": {},
   "outputs": [
    {
     "name": "stdout",
     "output_type": "stream",
     "text": [
      "<class 'pandas.core.frame.DataFrame'>\n",
      "RangeIndex: 1894 entries, 0 to 1893\n",
      "Data columns (total 52 columns):\n",
      " #   Column                  Non-Null Count  Dtype  \n",
      "---  ------                  --------------  -----  \n",
      " 0   Unnamed: 0              1894 non-null   int64  \n",
      " 1   환자ID                    1894 non-null   object \n",
      " 2   Large Lymphocyte        1894 non-null   float64\n",
      " 3   Location of herniation  1894 non-null   int64  \n",
      " 4   ODI                     462 non-null    float64\n",
      " 5   가족력                     1843 non-null   float64\n",
      " 6   간질성폐질환                  1894 non-null   int64  \n",
      " 7   고혈압여부                   1894 non-null   int64  \n",
      " 8   과거수술횟수                  1894 non-null   int64  \n",
      " 9   당뇨여부                    1894 non-null   int64  \n",
      " 10  말초동맥질환여부                1894 non-null   int64  \n",
      " 11  빈혈여부                    1894 non-null   int64  \n",
      " 12  성별                      1894 non-null   int64  \n",
      " 13  스테로이드치료                 1894 non-null   int64  \n",
      " 14  신부전여부                   1894 non-null   int64  \n",
      " 15  신장                      1894 non-null   int64  \n",
      " 16  심혈관질환                   1894 non-null   int64  \n",
      " 17  암발병여부                   1894 non-null   int64  \n",
      " 18  연령                      1894 non-null   int64  \n",
      " 19  우울증여부                   1894 non-null   int64  \n",
      " 20  입원기간                    1894 non-null   int64  \n",
      " 21  입원일자                    1894 non-null   int64  \n",
      " 22  종양진행여부                  1894 non-null   int64  \n",
      " 23  직업                      1479 non-null   object \n",
      " 24  체중                      1894 non-null   float64\n",
      " 25  퇴원일자                    1894 non-null   int64  \n",
      " 26  헤모글로빈수치                 1893 non-null   float64\n",
      " 27  혈전합병증여부                 1894 non-null   int64  \n",
      " 28  환자통증정도                  1894 non-null   int64  \n",
      " 29  흡연여부                    1894 non-null   int64  \n",
      " 30  통증기간(월)                 1890 non-null   float64\n",
      " 31  수술기법                    1813 non-null   object \n",
      " 32  수술시간                    1840 non-null   float64\n",
      " 33  수술실패여부                  1894 non-null   int64  \n",
      " 34  수술일자                    1894 non-null   int64  \n",
      " 35  재발여부                    1894 non-null   int64  \n",
      " 36  혈액형                     1894 non-null   object \n",
      " 37  전방디스크높이(mm)             1894 non-null   float64\n",
      " 38  후방디스크높이(mm)             1894 non-null   float64\n",
      " 39  지방축적도                   1891 non-null   float64\n",
      " 40  Instability             1894 non-null   int64  \n",
      " 41  MF + ES                 1894 non-null   float64\n",
      " 42  Modic change            1894 non-null   int64  \n",
      " 43  PI                      1890 non-null   float64\n",
      " 44  PT                      1890 non-null   float64\n",
      " 45  Seg Angle(raw)          1893 non-null   float64\n",
      " 46  Vaccum disc             1894 non-null   int64  \n",
      " 47  골밀도                     998 non-null    float64\n",
      " 48  디스크단면적                  1893 non-null   float64\n",
      " 49  디스크위치                   1894 non-null   int64  \n",
      " 50  척추이동척도                  1894 non-null   object \n",
      " 51  척추전방위증                  1894 non-null   int64  \n",
      "dtypes: float64(16), int64(31), object(5)\n",
      "memory usage: 769.6+ KB\n"
     ]
    }
   ],
   "source": [
    "df1.info()"
   ]
  },
  {
   "cell_type": "code",
   "execution_count": 3,
   "id": "424c3ffa-22e5-42ea-9627-f37a49405049",
   "metadata": {},
   "outputs": [
    {
     "data": {
      "text/plain": [
       "Unnamed: 0                   0\n",
       "환자ID                         0\n",
       "Large Lymphocyte             0\n",
       "Location of herniation       0\n",
       "ODI                       1432\n",
       "가족력                         51\n",
       "간질성폐질환                       0\n",
       "고혈압여부                        0\n",
       "과거수술횟수                       0\n",
       "당뇨여부                         0\n",
       "말초동맥질환여부                     0\n",
       "빈혈여부                         0\n",
       "성별                           0\n",
       "스테로이드치료                      0\n",
       "신부전여부                        0\n",
       "신장                           0\n",
       "심혈관질환                        0\n",
       "암발병여부                        0\n",
       "연령                           0\n",
       "우울증여부                        0\n",
       "입원기간                         0\n",
       "입원일자                         0\n",
       "종양진행여부                       0\n",
       "직업                         415\n",
       "체중                           0\n",
       "퇴원일자                         0\n",
       "헤모글로빈수치                      1\n",
       "혈전합병증여부                      0\n",
       "환자통증정도                       0\n",
       "흡연여부                         0\n",
       "통증기간(월)                      4\n",
       "수술기법                        81\n",
       "수술시간                        54\n",
       "수술실패여부                       0\n",
       "수술일자                         0\n",
       "재발여부                         0\n",
       "혈액형                          0\n",
       "전방디스크높이(mm)                  0\n",
       "후방디스크높이(mm)                  0\n",
       "지방축적도                        3\n",
       "Instability                  0\n",
       "MF + ES                      0\n",
       "Modic change                 0\n",
       "PI                           4\n",
       "PT                           4\n",
       "Seg Angle(raw)               1\n",
       "Vaccum disc                  0\n",
       "골밀도                        896\n",
       "디스크단면적                       1\n",
       "디스크위치                        0\n",
       "척추이동척도                       0\n",
       "척추전방위증                       0\n",
       "dtype: int64"
      ]
     },
     "execution_count": 3,
     "metadata": {},
     "output_type": "execute_result"
    }
   ],
   "source": [
    "df1.isnull().sum()"
   ]
  },
  {
   "cell_type": "code",
   "execution_count": 4,
   "id": "3a2521be-10c6-4511-83fc-f6005e268545",
   "metadata": {},
   "outputs": [
    {
     "data": {
      "text/plain": [
       "Index(['Unnamed: 0', '환자ID', 'Large Lymphocyte', 'Location of herniation',\n",
       "       'ODI', '가족력', '간질성폐질환', '고혈압여부', '과거수술횟수', '당뇨여부', '말초동맥질환여부', '빈혈여부',\n",
       "       '성별', '스테로이드치료', '신부전여부', '신장', '심혈관질환', '암발병여부', '연령', '우울증여부', '입원기간',\n",
       "       '입원일자', '종양진행여부', '직업', '체중', '퇴원일자', '헤모글로빈수치', '혈전합병증여부', '환자통증정도',\n",
       "       '흡연여부', '통증기간(월)', '수술기법', '수술시간', '수술실패여부', '수술일자', '재발여부', '혈액형',\n",
       "       '전방디스크높이(mm)', '후방디스크높이(mm)', '지방축적도', 'Instability', 'MF + ES',\n",
       "       'Modic change', 'PI', 'PT', 'Seg Angle(raw)', 'Vaccum disc', '골밀도',\n",
       "       '디스크단면적', '디스크위치', '척추이동척도', '척추전방위증'],\n",
       "      dtype='object')"
      ]
     },
     "execution_count": 4,
     "metadata": {},
     "output_type": "execute_result"
    }
   ],
   "source": [
    "df1.columns"
   ]
  },
  {
   "cell_type": "code",
   "execution_count": 5,
   "id": "baa9394e-f0df-4bab-8a74-e124b639ab32",
   "metadata": {},
   "outputs": [
    {
     "name": "stdout",
     "output_type": "stream",
     "text": [
      "(1479, 8)\n"
     ]
    }
   ],
   "source": [
    "# 변수 선택(서비스의 대상을 기준으로) / 결측치 제거\n",
    "df2 = df1[['성별','신장','체중', '흡연여부', '연령', '혈액형', '직업', '재발여부' ]]\n",
    "df3 = df2.dropna()\n",
    "print(df3.shape)"
   ]
  },
  {
   "cell_type": "code",
   "execution_count": 6,
   "id": "eb89643d-7877-42f6-a5a2-0b45e3ede82b",
   "metadata": {},
   "outputs": [],
   "source": [
    "# 더미변수처리(문자 데이터 -> One Hot Encoding)\n",
    "X = df3.drop(columns='재발여부')\n",
    "features = pd.get_dummies(X)\n",
    "# features"
   ]
  },
  {
   "cell_type": "code",
   "execution_count": 7,
   "id": "baa5183d-ad94-4c10-aed3-6d954aae1d50",
   "metadata": {},
   "outputs": [],
   "source": [
    "target = df3['재발여부']"
   ]
  },
  {
   "cell_type": "markdown",
   "id": "fa205719-1f42-44ca-a646-452aaf28240f",
   "metadata": {},
   "source": [
    "#### machine learning"
   ]
  },
  {
   "cell_type": "code",
   "execution_count": 8,
   "id": "d63eee10-cd2f-46e4-bfac-a2c7459c5bb0",
   "metadata": {},
   "outputs": [],
   "source": [
    "# 기계학습 알고리즘 호출\n",
    "from sklearn.model_selection import train_test_split\n",
    "from sklearn.pipeline import Pipeline\n",
    "from sklearn.preprocessing import MinMaxScaler\n",
    "from sklearn.tree import DecisionTreeClassifier\n",
    "from sklearn.model_selection import GridSearchCV\n",
    "from sklearn.metrics import classification_report\n",
    "from sklearn.tree import plot_tree"
   ]
  },
  {
   "cell_type": "markdown",
   "id": "6e1f94a0-8f89-4d4d-97c6-e2d412464556",
   "metadata": {},
   "source": [
    "#### resampling"
   ]
  },
  {
   "cell_type": "code",
   "execution_count": 9,
   "id": "8d8d7073-9443-4102-b1cc-994656571825",
   "metadata": {},
   "outputs": [
    {
     "data": {
      "text/plain": [
       "Counter({0: 1302, 1: 177})"
      ]
     },
     "execution_count": 9,
     "metadata": {},
     "output_type": "execute_result"
    }
   ],
   "source": [
    "from collections import Counter\n",
    "\n",
    "# resampling 하기 전\n",
    "Counter(target)"
   ]
  },
  {
   "cell_type": "code",
   "execution_count": 10,
   "id": "64bb1df8-1768-421d-8a64-75feff02b2ef",
   "metadata": {},
   "outputs": [],
   "source": [
    "## OverSampling\n",
    "# from imblearn.over_sampling import SMOTE\n",
    "# resample = SMOTE(sampling_strategy=0.8)\n",
    "# features_over_resample, target_over_resample = resample.fit_resample(features, target)\n",
    "\n",
    "# # resampling 하기 후\n",
    "# Counter(target_over_resample)"
   ]
  },
  {
   "cell_type": "code",
   "execution_count": 11,
   "id": "8ed3cf65-d12d-4410-b7ea-c57f4634132d",
   "metadata": {},
   "outputs": [],
   "source": [
    "## Under Sampling\n",
    "# from imblearn.under_sampling import NearMiss\n",
    "# resample = NearMiss(sampling_strategy=0.55)\n",
    "# features_over_resample, target_over_resample = resample.fit_resample(features, target)\n",
    "\n",
    "# # resampling 하기 후\n",
    "# Counter(target_over_resample)"
   ]
  },
  {
   "cell_type": "code",
   "execution_count": 12,
   "id": "a7ae70f5-ffd7-4d4f-95c8-dddc431241fc",
   "metadata": {},
   "outputs": [
    {
     "data": {
      "text/plain": [
       "Counter({0: 776, 1: 376})"
      ]
     },
     "execution_count": 12,
     "metadata": {},
     "output_type": "execute_result"
    }
   ],
   "source": [
    "# Combine Sampling\n",
    "from imblearn.combine import SMOTEENN\n",
    "resample = SMOTEENN(sampling_strategy=0.50)\n",
    "features_over_resample, target_over_resample = resample.fit_resample(features, target)\n",
    "# resampling 하기 후\n",
    "Counter(target_over_resample)"
   ]
  },
  {
   "cell_type": "code",
   "execution_count": 13,
   "id": "32f01d83-dccc-4c46-bc3f-0d932f0062f1",
   "metadata": {},
   "outputs": [
    {
     "name": "stdout",
     "output_type": "stream",
     "text": [
      "(806, 26)\n",
      "(806,)\n",
      "(346, 26)\n",
      "(346,)\n"
     ]
    }
   ],
   "source": [
    "features_train, features_test, target_train, target_test = train_test_split(features_over_resample, target_over_resample\n",
    "                                                                            , test_size = 0.3, random_state= 1234)\n",
    "print(features_train.shape)\n",
    "print(target_train.shape)\n",
    "print(features_test .shape)\n",
    "print(target_test.shape)"
   ]
  },
  {
   "cell_type": "code",
   "execution_count": 14,
   "id": "3e72a522-e10b-4406-a79f-fbb30179dc47",
   "metadata": {},
   "outputs": [
    {
     "data": {
      "text/html": [
       "<style>#sk-container-id-1 {color: black;background-color: white;}#sk-container-id-1 pre{padding: 0;}#sk-container-id-1 div.sk-toggleable {background-color: white;}#sk-container-id-1 label.sk-toggleable__label {cursor: pointer;display: block;width: 100%;margin-bottom: 0;padding: 0.3em;box-sizing: border-box;text-align: center;}#sk-container-id-1 label.sk-toggleable__label-arrow:before {content: \"▸\";float: left;margin-right: 0.25em;color: #696969;}#sk-container-id-1 label.sk-toggleable__label-arrow:hover:before {color: black;}#sk-container-id-1 div.sk-estimator:hover label.sk-toggleable__label-arrow:before {color: black;}#sk-container-id-1 div.sk-toggleable__content {max-height: 0;max-width: 0;overflow: hidden;text-align: left;background-color: #f0f8ff;}#sk-container-id-1 div.sk-toggleable__content pre {margin: 0.2em;color: black;border-radius: 0.25em;background-color: #f0f8ff;}#sk-container-id-1 input.sk-toggleable__control:checked~div.sk-toggleable__content {max-height: 200px;max-width: 100%;overflow: auto;}#sk-container-id-1 input.sk-toggleable__control:checked~label.sk-toggleable__label-arrow:before {content: \"▾\";}#sk-container-id-1 div.sk-estimator input.sk-toggleable__control:checked~label.sk-toggleable__label {background-color: #d4ebff;}#sk-container-id-1 div.sk-label input.sk-toggleable__control:checked~label.sk-toggleable__label {background-color: #d4ebff;}#sk-container-id-1 input.sk-hidden--visually {border: 0;clip: rect(1px 1px 1px 1px);clip: rect(1px, 1px, 1px, 1px);height: 1px;margin: -1px;overflow: hidden;padding: 0;position: absolute;width: 1px;}#sk-container-id-1 div.sk-estimator {font-family: monospace;background-color: #f0f8ff;border: 1px dotted black;border-radius: 0.25em;box-sizing: border-box;margin-bottom: 0.5em;}#sk-container-id-1 div.sk-estimator:hover {background-color: #d4ebff;}#sk-container-id-1 div.sk-parallel-item::after {content: \"\";width: 100%;border-bottom: 1px solid gray;flex-grow: 1;}#sk-container-id-1 div.sk-label:hover label.sk-toggleable__label {background-color: #d4ebff;}#sk-container-id-1 div.sk-serial::before {content: \"\";position: absolute;border-left: 1px solid gray;box-sizing: border-box;top: 0;bottom: 0;left: 50%;z-index: 0;}#sk-container-id-1 div.sk-serial {display: flex;flex-direction: column;align-items: center;background-color: white;padding-right: 0.2em;padding-left: 0.2em;position: relative;}#sk-container-id-1 div.sk-item {position: relative;z-index: 1;}#sk-container-id-1 div.sk-parallel {display: flex;align-items: stretch;justify-content: center;background-color: white;position: relative;}#sk-container-id-1 div.sk-item::before, #sk-container-id-1 div.sk-parallel-item::before {content: \"\";position: absolute;border-left: 1px solid gray;box-sizing: border-box;top: 0;bottom: 0;left: 50%;z-index: -1;}#sk-container-id-1 div.sk-parallel-item {display: flex;flex-direction: column;z-index: 1;position: relative;background-color: white;}#sk-container-id-1 div.sk-parallel-item:first-child::after {align-self: flex-end;width: 50%;}#sk-container-id-1 div.sk-parallel-item:last-child::after {align-self: flex-start;width: 50%;}#sk-container-id-1 div.sk-parallel-item:only-child::after {width: 0;}#sk-container-id-1 div.sk-dashed-wrapped {border: 1px dashed gray;margin: 0 0.4em 0.5em 0.4em;box-sizing: border-box;padding-bottom: 0.4em;background-color: white;}#sk-container-id-1 div.sk-label label {font-family: monospace;font-weight: bold;display: inline-block;line-height: 1.2em;}#sk-container-id-1 div.sk-label-container {text-align: center;}#sk-container-id-1 div.sk-container {/* jupyter's `normalize.less` sets `[hidden] { display: none; }` but bootstrap.min.css set `[hidden] { display: none !important; }` so we also need the `!important` here to be able to override the default hidden behavior on the sphinx rendered scikit-learn.org. See: https://github.com/scikit-learn/scikit-learn/issues/21755 */display: inline-block !important;position: relative;}#sk-container-id-1 div.sk-text-repr-fallback {display: none;}</style><div id=\"sk-container-id-1\" class=\"sk-top-container\"><div class=\"sk-text-repr-fallback\"><pre>Pipeline(steps=[(&#x27;scaler&#x27;, MinMaxScaler()),\n",
       "                (&#x27;model&#x27;, DecisionTreeClassifier())])</pre><b>In a Jupyter environment, please rerun this cell to show the HTML representation or trust the notebook. <br />On GitHub, the HTML representation is unable to render, please try loading this page with nbviewer.org.</b></div><div class=\"sk-container\" hidden><div class=\"sk-item sk-dashed-wrapped\"><div class=\"sk-label-container\"><div class=\"sk-label sk-toggleable\"><input class=\"sk-toggleable__control sk-hidden--visually\" id=\"sk-estimator-id-1\" type=\"checkbox\" ><label for=\"sk-estimator-id-1\" class=\"sk-toggleable__label sk-toggleable__label-arrow\">Pipeline</label><div class=\"sk-toggleable__content\"><pre>Pipeline(steps=[(&#x27;scaler&#x27;, MinMaxScaler()),\n",
       "                (&#x27;model&#x27;, DecisionTreeClassifier())])</pre></div></div></div><div class=\"sk-serial\"><div class=\"sk-item\"><div class=\"sk-estimator sk-toggleable\"><input class=\"sk-toggleable__control sk-hidden--visually\" id=\"sk-estimator-id-2\" type=\"checkbox\" ><label for=\"sk-estimator-id-2\" class=\"sk-toggleable__label sk-toggleable__label-arrow\">MinMaxScaler</label><div class=\"sk-toggleable__content\"><pre>MinMaxScaler()</pre></div></div></div><div class=\"sk-item\"><div class=\"sk-estimator sk-toggleable\"><input class=\"sk-toggleable__control sk-hidden--visually\" id=\"sk-estimator-id-3\" type=\"checkbox\" ><label for=\"sk-estimator-id-3\" class=\"sk-toggleable__label sk-toggleable__label-arrow\">DecisionTreeClassifier</label><div class=\"sk-toggleable__content\"><pre>DecisionTreeClassifier()</pre></div></div></div></div></div></div></div>"
      ],
      "text/plain": [
       "Pipeline(steps=[('scaler', MinMaxScaler()),\n",
       "                ('model', DecisionTreeClassifier())])"
      ]
     },
     "execution_count": 14,
     "metadata": {},
     "output_type": "execute_result"
    }
   ],
   "source": [
    "pipe_list = [('scaler',MinMaxScaler()),('model',DecisionTreeClassifier())]\n",
    "pipe_model = Pipeline(pipe_list)\n",
    "pipe_model"
   ]
  },
  {
   "cell_type": "code",
   "execution_count": 15,
   "id": "3ca805b7-f7e4-4c2d-9eab-42a19e7642a1",
   "metadata": {},
   "outputs": [],
   "source": [
    "from sklearn.metrics import make_scorer, f1_score\n",
    "scoring = make_scorer(f1_score)\n",
    "hyper_list = {'model__max_depth':range(2, 10),\n",
    "              'model__min_samples_leaf': range(2, 10),\n",
    "              'model__criterion': ['gini','entropy', 'log_loss'],\n",
    "              'model__class_weight': [None, 'balanced'],\n",
    "              'model__min_samples_split': range(2, 10),}\n",
    "grid_model = GridSearchCV(pipe_model, param_grid=hyper_list,\n",
    "                          scoring=scoring,\n",
    "                          n_jobs = -1,\n",
    "                          cv = 5)"
   ]
  },
  {
   "cell_type": "code",
   "execution_count": 16,
   "id": "8997ef61-d7fb-4bb2-b475-0fe148481624",
   "metadata": {},
   "outputs": [
    {
     "name": "stdout",
     "output_type": "stream",
     "text": [
      "Duration: 0:00:24.882809\n"
     ]
    }
   ],
   "source": [
    "from datetime import datetime\n",
    "\n",
    "start = datetime.now()  # start date and time\n",
    "\n",
    "grid_model.fit(features_train, target_train)\n",
    "\n",
    "end = datetime.now()  # end date and time - set to current date and time\n",
    "\n",
    "duration = end - start  # duration as a timedelta object\n",
    "\n",
    "print(\"Duration: {0}\".format(duration))"
   ]
  },
  {
   "cell_type": "code",
   "execution_count": 17,
   "id": "a9ff3747-961d-4de1-a579-5cde17081c26",
   "metadata": {},
   "outputs": [],
   "source": [
    "best_model = grid_model.best_estimator_\n",
    "target_train_pred = best_model.predict(features_train)\n",
    "target_test_pred = best_model.predict(features_test)"
   ]
  },
  {
   "cell_type": "markdown",
   "id": "1ea9f8ef-ecbd-4cfe-97ee-6d93f436feb4",
   "metadata": {
    "tags": []
   },
   "source": [
    "- 분류 모델에서 확인하고자 하는 Target 항목의 데이터 비율이 적으면\n",
    "- recall 이 매우 떨어지는 현상 도출\n",
    "          \n",
    "          \n",
    "          precision    recall  f1-score   support\n",
    "\n",
    "       0       0.90      1.00      0.95       911\n",
    "       1       0.93      0.23      0.36       124\n",
    "\n",
    "accuracy                           0.91      1035\n",
    "macro avg 0.92 0.61 0.66 1035 weighted avg 0.91 0.91 0.88 1035\n",
    "\n",
    "          precision    recall  f1-score   support\n",
    "\n",
    "       0       0.89      0.99      0.94       391\n",
    "       1       0.56      0.09      0.16        53\n",
    "\n",
    "accuracy                           0.88       444\n",
    "macro avg 0.72 0.54 0.55 444 weighted avg 0.85 0.88 0.84 444"
   ]
  },
  {
   "cell_type": "code",
   "execution_count": 18,
   "id": "cbbd7ca7-b567-41f4-944c-9d2d267b27db",
   "metadata": {
    "tags": []
   },
   "outputs": [
    {
     "name": "stdout",
     "output_type": "stream",
     "text": [
      "              precision    recall  f1-score   support\n",
      "\n",
      "           0       0.93      0.98      0.96       550\n",
      "           1       0.95      0.85      0.90       256\n",
      "\n",
      "    accuracy                           0.94       806\n",
      "   macro avg       0.94      0.91      0.93       806\n",
      "weighted avg       0.94      0.94      0.94       806\n",
      "\n",
      "              precision    recall  f1-score   support\n",
      "\n",
      "           0       0.88      0.96      0.92       226\n",
      "           1       0.91      0.75      0.82       120\n",
      "\n",
      "    accuracy                           0.89       346\n",
      "   macro avg       0.89      0.86      0.87       346\n",
      "weighted avg       0.89      0.89      0.88       346\n",
      "\n"
     ]
    }
   ],
   "source": [
    "print(classification_report(target_train, target_train_pred))\n",
    "print(classification_report(target_test, target_test_pred))"
   ]
  },
  {
   "cell_type": "code",
   "execution_count": 19,
   "id": "0908ecfa-de75-4225-bd3a-4c7162c3f0a8",
   "metadata": {
    "tags": []
   },
   "outputs": [],
   "source": [
    "col_name = features_train.columns"
   ]
  },
  {
   "cell_type": "code",
   "execution_count": 20,
   "id": "d66d0754-4d63-4104-b6b8-d8768c24beed",
   "metadata": {
    "tags": []
   },
   "outputs": [
    {
     "data": {
      "text/html": [
       "<div>\n",
       "<style scoped>\n",
       "    .dataframe tbody tr th:only-of-type {\n",
       "        vertical-align: middle;\n",
       "    }\n",
       "\n",
       "    .dataframe tbody tr th {\n",
       "        vertical-align: top;\n",
       "    }\n",
       "\n",
       "    .dataframe thead th {\n",
       "        text-align: right;\n",
       "    }\n",
       "</style>\n",
       "<table border=\"1\" class=\"dataframe\">\n",
       "  <thead>\n",
       "    <tr style=\"text-align: right;\">\n",
       "      <th></th>\n",
       "      <th>Feature</th>\n",
       "      <th>Importance</th>\n",
       "    </tr>\n",
       "  </thead>\n",
       "  <tbody>\n",
       "    <tr>\n",
       "      <th>7</th>\n",
       "      <td>혈액형_RH+B</td>\n",
       "      <td>0.286731</td>\n",
       "    </tr>\n",
       "    <tr>\n",
       "      <th>2</th>\n",
       "      <td>체중</td>\n",
       "      <td>0.228048</td>\n",
       "    </tr>\n",
       "    <tr>\n",
       "      <th>1</th>\n",
       "      <td>신장</td>\n",
       "      <td>0.143369</td>\n",
       "    </tr>\n",
       "    <tr>\n",
       "      <th>4</th>\n",
       "      <td>연령</td>\n",
       "      <td>0.125812</td>\n",
       "    </tr>\n",
       "    <tr>\n",
       "      <th>5</th>\n",
       "      <td>혈액형_RH+A</td>\n",
       "      <td>0.089132</td>\n",
       "    </tr>\n",
       "  </tbody>\n",
       "</table>\n",
       "</div>"
      ],
      "text/plain": [
       "    Feature  Importance\n",
       "7  혈액형_RH+B    0.286731\n",
       "2        체중    0.228048\n",
       "1        신장    0.143369\n",
       "4        연령    0.125812\n",
       "5  혈액형_RH+A    0.089132"
      ]
     },
     "execution_count": 20,
     "metadata": {},
     "output_type": "execute_result"
    }
   ],
   "source": [
    "df_importance = pd.DataFrame()\n",
    "df_importance [ 'Feature']= col_name\n",
    "df_importance ['Importance']= best_model['model'].feature_importances_\n",
    "df_importance.sort_values(by='Importance',ascending=False).head(5)"
   ]
  },
  {
   "cell_type": "code",
   "execution_count": null,
   "id": "c9e2034c-856f-48e6-b70f-bfde5dad7999",
   "metadata": {},
   "outputs": [],
   "source": []
  }
 ],
 "metadata": {
  "kernelspec": {
   "display_name": "Python 3 (ipykernel)",
   "language": "python",
   "name": "python3"
  },
  "language_info": {
   "codemirror_mode": {
    "name": "ipython",
    "version": 3
   },
   "file_extension": ".py",
   "mimetype": "text/x-python",
   "name": "python",
   "nbconvert_exporter": "python",
   "pygments_lexer": "ipython3",
   "version": "3.11.3"
  }
 },
 "nbformat": 4,
 "nbformat_minor": 5
}
